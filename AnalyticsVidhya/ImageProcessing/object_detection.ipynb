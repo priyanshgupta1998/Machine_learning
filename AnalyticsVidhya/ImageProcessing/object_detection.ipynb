{
  "nbformat": 4,
  "nbformat_minor": 0,
  "metadata": {
    "colab": {
      "name": "TensorFlow with GPU",
      "provenance": [],
      "collapsed_sections": [],
      "include_colab_link": true
    },
    "kernelspec": {
      "name": "python3",
      "display_name": "Python 3"
    },
    "accelerator": "GPU"
  },
  "cells": [
    {
      "cell_type": "markdown",
      "metadata": {
        "id": "view-in-github",
        "colab_type": "text"
      },
      "source": [
        "<a href=\"https://colab.research.google.com/github/priyanshgupta1998/Machine_learning/blob/master/AnalyticsVidhya/ImageProcessing/object_detection.ipynb\" target=\"_parent\"><img src=\"https://colab.research.google.com/assets/colab-badge.svg\" alt=\"Open In Colab\"/></a>"
      ]
    },
    {
      "cell_type": "code",
      "metadata": {
        "id": "g-_WprmFA8OV",
        "colab_type": "code",
        "colab": {}
      },
      "source": [
        ""
      ],
      "execution_count": 0,
      "outputs": []
    },
    {
      "cell_type": "code",
      "metadata": {
        "id": "tKmz1lMlCcQM",
        "colab_type": "code",
        "colab": {
          "base_uri": "https://localhost:8080/",
          "height": 102
        },
        "outputId": "ecc91c3b-c4e7-4152-fc71-dac8a7a28fc1"
      },
      "source": [
        "!pip install https://github.com/OlafenwaMoses/ImageAI/releases/download/2.0.1/imageai-2.0.1-py3-none-any.whl"
      ],
      "execution_count": 35,
      "outputs": [
        {
          "output_type": "stream",
          "text": [
            "Collecting imageai==2.0.1\n",
            "\u001b[?25l  Downloading https://github.com/OlafenwaMoses/ImageAI/releases/download/2.0.1/imageai-2.0.1-py3-none-any.whl (137kB)\n",
            "\r\u001b[K     |██▍                             | 10kB 17.4MB/s eta 0:00:01\r\u001b[K     |████▊                           | 20kB 249kB/s eta 0:00:01\r\u001b[K     |███████▏                        | 30kB 372kB/s eta 0:00:01\r\u001b[K     |█████████▌                      | 40kB 495kB/s eta 0:00:01\r\u001b[K     |███████████▉                    | 51kB 617kB/s eta 0:00:01\r\u001b[K     |██████████████▎                 | 61kB 370kB/s eta 0:00:01\r\u001b[K     |████████████████▋               | 71kB 430kB/s eta 0:00:01\r\u001b[K     |███████████████████             | 81kB 490kB/s eta 0:00:01\r\u001b[K     |█████████████████████▍          | 92kB 551kB/s eta 0:00:01\r\u001b[K     |███████████████████████▊        | 102kB 611kB/s eta 0:00:01\r\u001b[K     |██████████████████████████▏     | 112kB 611kB/s eta 0:00:01\r\u001b[K     |████████████████████████████▌   | 122kB 611kB/s eta 0:00:01\r\u001b[K     |███████████████████████████████ | 133kB 611kB/s eta 0:00:01\r\u001b[K     |████████████████████████████████| 143kB 611kB/s \n",
            "\u001b[?25hInstalling collected packages: imageai\n",
            "Successfully installed imageai-2.0.1\n"
          ],
          "name": "stdout"
        }
      ]
    },
    {
      "cell_type": "code",
      "metadata": {
        "id": "oL0YwbQcG8H5",
        "colab_type": "code",
        "colab": {}
      },
      "source": [
        "from imageai.Detection import ObjectDetection\n",
        "import os\n",
        "\n",
        "execution_path = os.getcwd()\n",
        "\n",
        "detector = ObjectDetection()\n",
        "detector.setModelTypeAsRetinaNet()\n",
        "detector.setModelPath( os.path.join(execution_path , \"resnet50_coco_best_v2.0.1.h5\"))\n",
        "detector.loadModel()\n",
        "custom_objects = detector.CustomObjects(person=True, car=False)\n",
        "detections = detector.detectCustomObjectsFromImage(input_image=os.path.join(execution_path , \"image.png\"), output_image_path=os.path.join(execution_path , \"image_new.png\"), custom_objects=custom_objects, minimum_percentage_probability=65)\n",
        "\n",
        "\n",
        "for eachObject in detections:\n",
        "   print(eachObject[\"name\"] + \" : \" + eachObject[\"percentage_probability\"] )\n",
        "   print(\"--------------------------------\")"
      ],
      "execution_count": 0,
      "outputs": []
    },
    {
      "cell_type": "code",
      "metadata": {
        "id": "VwMXUFdMG8GD",
        "colab_type": "code",
        "colab": {}
      },
      "source": [
        "from IPython.display import Image\n",
        "Image(\"image_new.png\")"
      ],
      "execution_count": 0,
      "outputs": []
    },
    {
      "cell_type": "code",
      "metadata": {
        "id": "uYYsQi55G8Ei",
        "colab_type": "code",
        "colab": {}
      },
      "source": [
        ""
      ],
      "execution_count": 0,
      "outputs": []
    },
    {
      "cell_type": "code",
      "metadata": {
        "id": "EbymKJQrG8DM",
        "colab_type": "code",
        "colab": {}
      },
      "source": [
        ""
      ],
      "execution_count": 0,
      "outputs": []
    },
    {
      "cell_type": "code",
      "metadata": {
        "id": "8t-tcG33G8A8",
        "colab_type": "code",
        "colab": {
          "base_uri": "https://localhost:8080/",
          "height": 34
        },
        "outputId": "9804e9fc-68d7-40dd-8d70-81d65ca0543e"
      },
      "source": [
        "%pylab inline\n",
        "import os\n",
        "import numpy as np\n",
        "import pandas as pd\n",
        "# from scipy.misc import imread\n",
        "from sklearn.metrics import accuracy_score\n",
        "\n",
        "import tensorflow as tf\n",
        "import keras"
      ],
      "execution_count": 38,
      "outputs": [
        {
          "output_type": "stream",
          "text": [
            "Populating the interactive namespace from numpy and matplotlib\n"
          ],
          "name": "stdout"
        }
      ]
    },
    {
      "cell_type": "code",
      "metadata": {
        "id": "ZqKishn_G7-H",
        "colab_type": "code",
        "colab": {}
      },
      "source": [
        "# To stop potential randomness\n",
        "seed = 128\n",
        "rng = np.random.RandomState(seed)"
      ],
      "execution_count": 0,
      "outputs": []
    },
    {
      "cell_type": "code",
      "metadata": {
        "id": "DhWjfj-3G771",
        "colab_type": "code",
        "colab": {}
      },
      "source": [
        "train = pd.read_csv(os.path.join(data_dir, 'Train', 'train.csv'))\n",
        "test = pd.read_csv(os.path.join(data_dir, 'Test.csv'))\n",
        "\n",
        "sample_submission = pd.read_csv(os.path.join(data_dir, 'Sample_Submission.csv'))\n",
        "\n",
        "train.head()"
      ],
      "execution_count": 0,
      "outputs": []
    },
    {
      "cell_type": "code",
      "metadata": {
        "id": "fG5d138oCcK6",
        "colab_type": "code",
        "colab": {}
      },
      "source": [
        "\n",
        "#display an image\n",
        "img_name = rng.choice(train.filename)\n",
        "filepath = os.path.join(data_dir, 'Train', 'Images', 'train', img_name)\n",
        "\n",
        "img = imread(filepath, flatten=True)\n",
        "\n",
        "pylab.imshow(img, cmap='gray')\n",
        "pylab.axis('off')\n",
        "pylab.show()"
      ],
      "execution_count": 0,
      "outputs": []
    },
    {
      "cell_type": "markdown",
      "metadata": {
        "id": "J5ymEc3fV_St",
        "colab_type": "text"
      },
      "source": [
        "# For easier data manipulation, let’s store all our images as numpy arrays"
      ]
    },
    {
      "cell_type": "code",
      "metadata": {
        "id": "e8FpD49pA8T0",
        "colab_type": "code",
        "colab": {}
      },
      "source": [
        "temp = []\n",
        "for img_name in train.filename:\n",
        "    image_path = os.path.join(data_dir, 'Train', 'Images', 'train', img_name)\n",
        "    img = imread(image_path, flatten=True)\n",
        "    img = img.astype('float32')\n",
        "    temp.append(img)\n",
        "    \n",
        "train_x = np.stack(temp)\n",
        "\n",
        "train_x /= 255.0\n",
        "train_x = train_x.reshape(-1, 784).astype('float32')\n",
        "\n",
        "temp = []\n",
        "for img_name in test.filename:\n",
        "    image_path = os.path.join(data_dir, 'Train', 'Images', 'test', img_name)\n",
        "    img = imread(image_path, flatten=True)\n",
        "    img = img.astype('float32')\n",
        "    temp.append(img)\n",
        "    \n",
        "test_x = np.stack(temp)\n",
        "\n",
        "test_x /= 255.0\n",
        "test_x = test_x.reshape(-1, 784).astype('float32')\n",
        "train_y = keras.utils.np_utils.to_categorical(train.label.values)"
      ],
      "execution_count": 0,
      "outputs": []
    },
    {
      "cell_type": "code",
      "metadata": {
        "id": "nHwmuvD0A8gP",
        "colab_type": "code",
        "colab": {}
      },
      "source": [
        "split_size = int(train_x.shape[0]*0.7)\n",
        "\n",
        "train_x, val_x = train_x[:split_size], train_x[split_size:]\n",
        "train_y, val_y = train_y[:split_size], train_y[split_size:]"
      ],
      "execution_count": 0,
      "outputs": []
    },
    {
      "cell_type": "code",
      "metadata": {
        "id": "17BgAMDDA8oL",
        "colab_type": "code",
        "colab": {}
      },
      "source": [
        "train.label.ix[split_size:]"
      ],
      "execution_count": 0,
      "outputs": []
    },
    {
      "cell_type": "code",
      "metadata": {
        "id": "916j7qhxA8tV",
        "colab_type": "code",
        "colab": {}
      },
      "source": [
        "# define vars\n",
        "input_num_units = 784\n",
        "hidden_num_units = 50\n",
        "output_num_units = 10\n",
        "\n",
        "epochs = 5\n",
        "batch_size = 128\n",
        "\n",
        "# import keras modules\n",
        "\n",
        "from keras.models import Sequential\n",
        "from keras.layers import Dense\n",
        "\n",
        "# create model\n",
        "model = Sequential([\n",
        "  Dense(output_dim=hidden_num_units, input_dim=input_num_units, activation='relu'),\n",
        "  Dense(output_dim=output_num_units, input_dim=hidden_num_units, activation='softmax'),\n",
        "])\n",
        "\n",
        "# compile the model with necessary attributes\n",
        "model.compile(loss='categorical_crossentropy', optimizer='adam', metrics=['accuracy'])"
      ],
      "execution_count": 0,
      "outputs": []
    },
    {
      "cell_type": "code",
      "metadata": {
        "id": "E_eLqgjuA8yZ",
        "colab_type": "code",
        "colab": {}
      },
      "source": [
        "trained_model = model.fit(train_x, train_y,\n",
        "                          nb_epoch=epochs,\n",
        "                          batch_size=batch_size,\n",
        "                          validation_data=(val_x, val_y))"
      ],
      "execution_count": 0,
      "outputs": []
    },
    {
      "cell_type": "code",
      "metadata": {
        "id": "0-2XjlVPA8-I",
        "colab_type": "code",
        "colab": {}
      },
      "source": [
        "pred = model.predict_classes(test_x)\n",
        "\n",
        "img_name = rng.choice(test.filename)\n",
        "filepath = os.path.join(data_dir, 'Train', 'Images', 'test', img_name)\n",
        "\n",
        "img = imread(filepath, flatten=True)\n",
        "\n",
        "test_index = int(img_name.split('.')[0]) - train.shape[0]\n",
        "\n",
        "print(\"Prediction is: \", pred[test_index])\n",
        "\n",
        "pylab.imshow(img, cmap='gray')\n",
        "pylab.axis('off')\n",
        "pylab.show()\n",
        "\n"
      ],
      "execution_count": 0,
      "outputs": []
    },
    {
      "cell_type": "code",
      "metadata": {
        "id": "XJeL_FWfA9Dr",
        "colab_type": "code",
        "colab": {}
      },
      "source": [
        "sample_submission.filename = test.filename; sample_submission.label = pred\n",
        "sample_submission.to_csv(os.path.join(sub_dir, 'sub02.csv'), index=False)"
      ],
      "execution_count": 0,
      "outputs": []
    },
    {
      "cell_type": "code",
      "metadata": {
        "id": "w3fzfVywA87i",
        "colab_type": "code",
        "colab": {}
      },
      "source": [
        ""
      ],
      "execution_count": 0,
      "outputs": []
    },
    {
      "cell_type": "markdown",
      "metadata": {
        "id": "O2Hi5TlVYLL_",
        "colab_type": "text"
      },
      "source": [
        "\n",
        "\n",
        "---\n",
        "\n",
        "\n",
        "\n",
        "---\n",
        "\n",
        "\n",
        "\n",
        "---\n",
        "\n",
        "\n",
        "\n",
        "---\n",
        "\n",
        "\n",
        "\n",
        "---\n",
        "\n",
        "\n",
        "\n",
        "---\n",
        "\n"
      ]
    },
    {
      "cell_type": "code",
      "metadata": {
        "id": "v_7uNwEZA85k",
        "colab_type": "code",
        "colab": {}
      },
      "source": [
        "%pylab inline\n",
        "\n",
        "import os\n",
        "import numpy as np\n",
        "import pandas as pd\n",
        "from scipy.misc import imread\n",
        "from sklearn.metrics import accuracy_score\n",
        "import tensorflow as tf\n",
        "import keras\n",
        "\n",
        "from keras.models import Sequential\n",
        "from keras.layers import Dense, Activation, Dropout, Convolution2D, Flatten, MaxPooling2D, Reshape, InputLayer"
      ],
      "execution_count": 0,
      "outputs": []
    },
    {
      "cell_type": "code",
      "metadata": {
        "id": "sn7GaylRA83f",
        "colab_type": "code",
        "colab": {}
      },
      "source": [
        "#set seed value\n",
        "# To stop potential randomness\n",
        "seed = 128\n",
        "rng = np.random.RandomState(seed)"
      ],
      "execution_count": 0,
      "outputs": []
    },
    {
      "cell_type": "code",
      "metadata": {
        "id": "2bpL3UOxA81_",
        "colab_type": "code",
        "colab": {}
      },
      "source": [
        "# it can be used in future\n",
        "\n",
        "root_dir = os.path.abspath('../..')\n",
        "data_dir = os.path.join(root_dir, 'data')\n",
        "sub_dir = os.path.join(root_dir, 'sub')\n",
        "\n",
        "# check for existence\n",
        "os.path.exists(root_dir)\n",
        "os.path.exists(data_dir)\n",
        "os.path.exists(sub_dir)"
      ],
      "execution_count": 0,
      "outputs": []
    },
    {
      "cell_type": "code",
      "metadata": {
        "id": "991xHeXgA8wb",
        "colab_type": "code",
        "colab": {}
      },
      "source": [
        "train = pd.read_csv(os.path.join(data_dir, 'Train', 'train.csv'))\n",
        "test = pd.read_csv(os.path.join(data_dir, 'Test.csv'))\n",
        "\n",
        "sample_submission = pd.read_csv(os.path.join(data_dir, 'Sample_Submission.csv'))\n",
        "\n",
        "temp = []\n",
        "for img_name in train.filename:\n",
        "  image_path = os.path.join(data_dir, 'Train', 'Images', 'train', img_name)\n",
        "  img = imread(image_path, flatten=True)\n",
        "  img = img.astype('float32')\n",
        "  temp.append(img)\n",
        "\n",
        "train_x = np.stack(temp)\n",
        "\n",
        "train_x /= 255.0\n",
        "train_x = train_x.reshape(-1, 784).astype('float32')\n",
        "\n",
        "temp = []\n",
        "for img_name in test.filename:\n",
        "  image_path = os.path.join(data_dir, 'Train', 'Images', 'test', img_name)\n",
        "  img = imread(image_path, flatten=True)\n",
        "  img = img.astype('float32')\n",
        "  temp.append(img)\n",
        "\n",
        "test_x = np.stack(temp)\n",
        "\n",
        "test_x /= 255.0\n",
        "test_x = test_x.reshape(-1, 784).astype('float32')\n",
        "\n",
        "train_y = keras.utils.np_utils.to_categorical(train.label.values)"
      ],
      "execution_count": 0,
      "outputs": []
    },
    {
      "cell_type": "code",
      "metadata": {
        "id": "8orN8HTDA8ls",
        "colab_type": "code",
        "colab": {}
      },
      "source": [
        "# define vars\n",
        "input_num_units = 784\n",
        "hidden_num_units = 500\n",
        "output_num_units = 10\n",
        "epochs = 5\n",
        "batch_size = 128\n",
        "\n",
        "model = Sequential([\n",
        " Dense(output_dim=hidden_num_units, input_dim=input_num_units, activation='relu'),\n",
        "\n",
        " Dense(output_dim=output_num_units, input_dim=hidden_num_units, activation='softmax'),\n",
        "])"
      ],
      "execution_count": 0,
      "outputs": []
    },
    {
      "cell_type": "code",
      "metadata": {
        "id": "3RE6YABTA8jQ",
        "colab_type": "code",
        "colab": {}
      },
      "source": [
        "model.compile(loss='categorical_crossentropy', optimizer='adam', metrics=['accuracy'])\n",
        "\n",
        "trained_model_500 = model.fit(train_x, train_y, nb_epoch=epochs, batch_size=batch_size, validation_data=(val_x, val_y))"
      ],
      "execution_count": 0,
      "outputs": []
    },
    {
      "cell_type": "code",
      "metadata": {
        "id": "C2rt4TXDA8d8",
        "colab_type": "code",
        "colab": {}
      },
      "source": [
        "# define vars\n",
        "input_num_units = 784\n",
        "hidden1_num_units = 50\n",
        "hidden2_num_units = 50\n",
        "hidden3_num_units = 50\n",
        "hidden4_num_units = 50\n",
        "hidden5_num_units = 50\n",
        "output_num_units = 10\n",
        "\n",
        "epochs = 5\n",
        "batch_size = 128\n",
        "\n",
        "model = Sequential([\n",
        " Dense(output_dim=hidden1_num_units, input_dim=input_num_units, activation='relu'),\n",
        " Dense(output_dim=hidden2_num_units, input_dim=hidden1_num_units, activation='relu'),\n",
        " Dense(output_dim=hidden3_num_units, input_dim=hidden2_num_units, activation='relu'),\n",
        " Dense(output_dim=hidden4_num_units, input_dim=hidden3_num_units, activation='relu'),\n",
        " Dense(output_dim=hidden5_num_units, input_dim=hidden4_num_units, activation='relu'),\n",
        "\n",
        "Dense(output_dim=output_num_units, input_dim=hidden5_num_units, activation='softmax'),\n",
        " ])"
      ],
      "execution_count": 0,
      "outputs": []
    },
    {
      "cell_type": "code",
      "metadata": {
        "id": "toKolLXoA8ba",
        "colab_type": "code",
        "colab": {}
      },
      "source": [
        "model.compile(loss='categorical_crossentropy', optimizer='adam', metrics=['accuracy'])\n",
        "\n",
        "trained_model_5d = model.fit(train_x, train_y, nb_epoch=epochs, batch_size=batch_size, validation_data=(val_x, val_y))"
      ],
      "execution_count": 0,
      "outputs": []
    },
    {
      "cell_type": "code",
      "metadata": {
        "id": "dksVacC3A8ZF",
        "colab_type": "code",
        "colab": {}
      },
      "source": [
        "#NOW USING DROPOUT PROPERTY TO ESCAPE FROM OVERFITTING PROBLEM\n",
        "# define vars\n",
        "input_num_units = 784\n",
        "hidden1_num_units = 50\n",
        "hidden2_num_units = 50\n",
        "hidden3_num_units = 50\n",
        "hidden4_num_units = 50\n",
        "hidden5_num_units = 50\n",
        "output_num_units = 10\n",
        "\n",
        "epochs = 5\n",
        "batch_size = 128\n",
        "\n",
        "dropout_ratio = 0.2\n",
        "\n",
        "model = Sequential([\n",
        " Dense(output_dim=hidden1_num_units, input_dim=input_num_units, activation='relu'),\n",
        " Dropout(dropout_ratio),\n",
        " Dense(output_dim=hidden2_num_units, input_dim=hidden1_num_units, activation='relu'),\n",
        " Dropout(dropout_ratio),\n",
        " Dense(output_dim=hidden3_num_units, input_dim=hidden2_num_units, activation='relu'),\n",
        " Dropout(dropout_ratio),\n",
        " Dense(output_dim=hidden4_num_units, input_dim=hidden3_num_units, activation='relu'),\n",
        " Dropout(dropout_ratio),\n",
        " Dense(output_dim=hidden5_num_units, input_dim=hidden4_num_units, activation='relu'),\n",
        " Dropout(dropout_ratio),\n",
        "\n",
        "Dense(output_dim=output_num_units, input_dim=hidden5_num_units, activation='softmax'),\n",
        " ])"
      ],
      "execution_count": 0,
      "outputs": []
    },
    {
      "cell_type": "code",
      "metadata": {
        "id": "UY_Fjfk1A8XL",
        "colab_type": "code",
        "colab": {}
      },
      "source": [
        "model.compile(loss='categorical_crossentropy', optimizer='adam', metrics=['accuracy'])\n",
        "\n",
        "trained_model_5d_with_drop = model.fit(train_x, train_y, nb_epoch=epochs, batch_size=batch_size, validation_data=(val_x, val_y))"
      ],
      "execution_count": 0,
      "outputs": []
    },
    {
      "cell_type": "code",
      "metadata": {
        "id": "P8_xK9JNA8R5",
        "colab_type": "code",
        "colab": {}
      },
      "source": [
        ""
      ],
      "execution_count": 0,
      "outputs": []
    },
    {
      "cell_type": "markdown",
      "metadata": {
        "id": "hF62MQGKZpZP",
        "colab_type": "text"
      },
      "source": [
        "#Now apply CNN"
      ]
    },
    {
      "cell_type": "code",
      "metadata": {
        "id": "TCfH9gzLZDfC",
        "colab_type": "code",
        "colab": {}
      },
      "source": [
        "# reshape data\n",
        "\n",
        "train_x_temp = train_x.reshape(-1, 28, 28, 1)\n",
        "val_x_temp = val_x.reshape(-1, 28, 28, 1)\n",
        "\n",
        "# define vars\n",
        "input_shape = (784,)\n",
        "input_reshape = (28, 28, 1)\n",
        "\n",
        "conv_num_filters = 5\n",
        "conv_filter_size = 5\n",
        "\n",
        "pool_size = (2, 2)\n",
        "\n",
        "hidden_num_units = 50\n",
        "output_num_units = 10\n",
        "\n",
        "epochs = 5\n",
        "batch_size = 128\n",
        "\n",
        "model = Sequential([\n",
        " InputLayer(input_shape=input_reshape),\n",
        "\n",
        " Convolution2D(25, 5, 5, activation='relu'),\n",
        " MaxPooling2D(pool_size=pool_size),\n",
        "\n",
        " Convolution2D(25, 5, 5, activation='relu'),\n",
        " MaxPooling2D(pool_size=pool_size),\n",
        "\n",
        " Convolution2D(25, 4, 4, activation='relu'),\n",
        "\n",
        " Flatten(),\n",
        "\n",
        " Dense(output_dim=hidden_num_units, activation='relu'),\n",
        "\n",
        " Dense(output_dim=output_num_units, input_dim=hidden_num_units, activation='softmax'),\n",
        "])\n",
        "\n",
        "model.compile(loss='categorical_crossentropy', optimizer='adam', metrics=['accuracy'])\n",
        "\n",
        "trained_model_conv = model.fit(train_x_temp, train_y, nb_epoch=epochs, batch_size=batch_size, validation_data=(val_x_temp, val_y))"
      ],
      "execution_count": 0,
      "outputs": []
    },
    {
      "cell_type": "code",
      "metadata": {
        "id": "49_zdAhrZDdF",
        "colab_type": "code",
        "colab": {}
      },
      "source": [
        ""
      ],
      "execution_count": 0,
      "outputs": []
    },
    {
      "cell_type": "code",
      "metadata": {
        "id": "a6zqVEzBZDbS",
        "colab_type": "code",
        "colab": {}
      },
      "source": [
        ""
      ],
      "execution_count": 0,
      "outputs": []
    },
    {
      "cell_type": "code",
      "metadata": {
        "id": "YsB6n5D_ZDZm",
        "colab_type": "code",
        "colab": {}
      },
      "source": [
        ""
      ],
      "execution_count": 0,
      "outputs": []
    },
    {
      "cell_type": "code",
      "metadata": {
        "id": "fv10C57kZDW5",
        "colab_type": "code",
        "colab": {}
      },
      "source": [
        ""
      ],
      "execution_count": 0,
      "outputs": []
    },
    {
      "cell_type": "code",
      "metadata": {
        "id": "WzrCcV7lZDVB",
        "colab_type": "code",
        "colab": {}
      },
      "source": [
        ""
      ],
      "execution_count": 0,
      "outputs": []
    },
    {
      "cell_type": "code",
      "metadata": {
        "id": "1kKtQ9RXZDS4",
        "colab_type": "code",
        "colab": {}
      },
      "source": [
        ""
      ],
      "execution_count": 0,
      "outputs": []
    },
    {
      "cell_type": "code",
      "metadata": {
        "id": "s84tFYBUZDPz",
        "colab_type": "code",
        "colab": {}
      },
      "source": [
        ""
      ],
      "execution_count": 0,
      "outputs": []
    },
    {
      "cell_type": "code",
      "metadata": {
        "id": "0m2XLun6ZDNZ",
        "colab_type": "code",
        "colab": {}
      },
      "source": [
        ""
      ],
      "execution_count": 0,
      "outputs": []
    },
    {
      "cell_type": "code",
      "metadata": {
        "id": "hyCRfu9EZDIl",
        "colab_type": "code",
        "colab": {}
      },
      "source": [
        ""
      ],
      "execution_count": 0,
      "outputs": []
    },
    {
      "cell_type": "code",
      "metadata": {
        "id": "TGsv3pBJA8MO",
        "colab_type": "code",
        "colab": {}
      },
      "source": [
        ""
      ],
      "execution_count": 0,
      "outputs": []
    }
  ]
}