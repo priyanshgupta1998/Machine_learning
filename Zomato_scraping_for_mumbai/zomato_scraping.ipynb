{
 "cells": [
  {
   "cell_type": "markdown",
   "metadata": {},
   "source": [
    "# Scrape zomato data ✨ FOR RESTAUTANTS IN MUMBAI "
   ]
  },
  {
   "cell_type": "code",
   "execution_count": null,
   "metadata": {},
   "outputs": [],
   "source": [
    "##Zomato\n",
    "# #Importing packages\n",
    "# import pandas as pd\n",
    "# from selenium import webdriver\n",
    "# from selenium.webdriver.chrome.options import Options\n",
    "# from bs4 import BeautifulSoup as soup\n",
    "# from time import sleep\n",
    "# import random\n",
    "# import csv\n",
    "# driver = webdriver.Chrome(\"C:\\\\Users\\\\PRIYANSH\\\\Desktop\\\\Zomato\\\\chromedriver.exe\")\n",
    "# driver.get('https://developers.zomato.com/api/v2.1/categories')\n",
    "# from urllib.request import urlopen as ureq\n",
    "# from bs4 import BeautifulSoup\n",
    "# import requests\n",
    "# header = {\n",
    "#           \"User-agent\":  'Mozilla/5.0 (Macintosh; Intel Mac OS X 10_11_6) AppleWebKit/537.36 (KHTML, like Gecko) Chrome/61.0.3163.100 Safari/537.36',\n",
    "#           \"Accept\": \"application/json\", \n",
    "#           \"user_key\": 'db69a2c3f19aa68828e3765c00b5ab30'\n",
    "#          }\n",
    "# url = 'https://developers.zomato.com/api/v2.1/categories'\n",
    "# page = requests.get(url)\n",
    "# html = BeautifulSoup(page.content,'html.parser')\n",
    "# html"
   ]
  },
  {
   "cell_type": "markdown",
   "metadata": {},
   "source": [
    "# Scrape 150 pages each page contains 15 restaurant "
   ]
  },
  {
   "cell_type": "code",
   "execution_count": 53,
   "metadata": {
    "scrolled": true
   },
   "outputs": [
    {
     "name": "stdout",
     "output_type": "stream",
     "text": [
      "Total Number of Pages for this search 1342\n",
      " Out of these Pages  i've scraped only 150 pages :  150\n"
     ]
    }
   ],
   "source": [
    "\n",
    "#Importing packages\n",
    "import pandas as pd\n",
    "from selenium import webdriver\n",
    "from selenium.webdriver.chrome.options import Options\n",
    "from bs4 import BeautifulSoup as soup\n",
    "from time import sleep\n",
    "import random\n",
    "import csv\n",
    "'''options = Options()\n",
    "options.add_argument(\"--headless\")\n",
    "options.add_argument('--no-sandbox')\n",
    "options.add_argument('--disable-gpu')\n",
    "options.add_argument('start-maximized')\n",
    "options.add_argument('disable-infobars')\n",
    "options.add_argument(\"--disable-extensions\")'''\n",
    "CHROMEDRIVER_PATH = \"C:\\\\Users\\\\PRIYANSH\\\\Desktop\\\\Zomato\\\\chromedriver.exe\"\n",
    "browser = webdriver.Chrome(CHROMEDRIVER_PATH)\n",
    "\n",
    "\n",
    "def get_no_page():\n",
    "  try:\n",
    "    _page_no = browser.find_element_by_xpath(\n",
    "        '//*[@id=\"search-results-container\"]/div[2]/div[1]/div[1]/div/b[2]').text\n",
    "    return(int(_page_no))\n",
    "  except:\n",
    "    return(\"cant access number of page results\")\n",
    "\n",
    "\n",
    "def generate_random():  \n",
    "  #It returns a random value between 3 and 5. That number indicates the seconds to be wait\n",
    "  rand = random.randint(3, 5)\n",
    "  return rand\n",
    "\n",
    "#Restautants or outlets in Mumbai\n",
    "def extract_datasets(link):\n",
    "    browser.get(link)\n",
    "    sleep(generate_random())\n",
    "    contents = soup(browser.page_source, \"html.parser\")\n",
    "    al = contents.find_all('a' ,{'class': 'result-title hover_feedback zred bold ln24 fontsize0'})\n",
    "    return al\n",
    "\n",
    "url = 'https://www.zomato.com/mumbai/restaurants?'\n",
    "browser.get(url)\n",
    "print(\"Total Number of Pages for this search %s\" %(get_no_page()))\n",
    "# get = extract_datasets(url)\n",
    "pages =150 # <how many pages to scrape\n",
    "get = []\n",
    "for n in range(1,pages+1):\n",
    "    page_links = \"page=%s\" % (n)\n",
    "    web_url = url+page_links\n",
    "    get.append(extract_datasets(web_url))\n",
    "    sleep(generate_random())\n",
    "\n",
    "browser.quit()\n",
    "print(\" Out of these Pages  i've scraped only %s pages : \" %(len(get)))"
   ]
  },
  {
   "cell_type": "code",
   "execution_count": null,
   "metadata": {},
   "outputs": [],
   "source": [
    "names = []\n",
    "urls = []\n",
    "for j in range(len(get)):\n",
    "    lin = get[j]\n",
    "    for i in range(len(lin)):\n",
    "        #print(i , lin[i].text.strip() , lin[i].get('href'))\n",
    "        names.append(lin[i].text.strip())\n",
    "        urls.append( lin[i].get('href'))"
   ]
  },
  {
   "cell_type": "markdown",
   "metadata": {},
   "source": [
    "# sTORE DATA IN .CSV FILE "
   ]
  },
  {
   "cell_type": "code",
   "execution_count": 236,
   "metadata": {},
   "outputs": [],
   "source": [
    "import pandas as pd\n",
    "df = pd.DataFrame()\n",
    "df['Restaurant_Name'] = names\n",
    "df['URLs'] = urls\n",
    "df.to_csv('restaurant.csv' , index = False)"
   ]
  },
  {
   "cell_type": "code",
   "execution_count": 57,
   "metadata": {},
   "outputs": [
    {
     "name": "stdout",
     "output_type": "stream",
     "text": [
      "(2250, 2)\n"
     ]
    },
    {
     "data": {
      "text/html": [
       "<div>\n",
       "<style scoped>\n",
       "    .dataframe tbody tr th:only-of-type {\n",
       "        vertical-align: middle;\n",
       "    }\n",
       "\n",
       "    .dataframe tbody tr th {\n",
       "        vertical-align: top;\n",
       "    }\n",
       "\n",
       "    .dataframe thead th {\n",
       "        text-align: right;\n",
       "    }\n",
       "</style>\n",
       "<table border=\"1\" class=\"dataframe\">\n",
       "  <thead>\n",
       "    <tr style=\"text-align: right;\">\n",
       "      <th></th>\n",
       "      <th>Restaurant_Name</th>\n",
       "      <th>URLs</th>\n",
       "    </tr>\n",
       "  </thead>\n",
       "  <tbody>\n",
       "    <tr>\n",
       "      <td>0</td>\n",
       "      <td>Cafe Safar</td>\n",
       "      <td>https://www.zomato.com/mumbai/cafe-safar-oshiwara</td>\n",
       "    </tr>\n",
       "    <tr>\n",
       "      <td>1</td>\n",
       "      <td>AB's - Absolute Barbecues</td>\n",
       "      <td>https://www.zomato.com/mumbai/abs-absolute-bar...</td>\n",
       "    </tr>\n",
       "    <tr>\n",
       "      <td>2</td>\n",
       "      <td>Summer N Spice</td>\n",
       "      <td>https://www.zomato.com/mumbai/summer-n-spice-v...</td>\n",
       "    </tr>\n",
       "    <tr>\n",
       "      <td>3</td>\n",
       "      <td>Joey's Pizza</td>\n",
       "      <td>https://www.zomato.com/mumbai/joeys-pizza-mala...</td>\n",
       "    </tr>\n",
       "    <tr>\n",
       "      <td>4</td>\n",
       "      <td>Younion</td>\n",
       "      <td>https://www.zomato.com/mumbai/younion-lower-parel</td>\n",
       "    </tr>\n",
       "  </tbody>\n",
       "</table>\n",
       "</div>"
      ],
      "text/plain": [
       "             Restaurant_Name  \\\n",
       "0                 Cafe Safar   \n",
       "1  AB's - Absolute Barbecues   \n",
       "2             Summer N Spice   \n",
       "3               Joey's Pizza   \n",
       "4                    Younion   \n",
       "\n",
       "                                                URLs  \n",
       "0  https://www.zomato.com/mumbai/cafe-safar-oshiwara  \n",
       "1  https://www.zomato.com/mumbai/abs-absolute-bar...  \n",
       "2  https://www.zomato.com/mumbai/summer-n-spice-v...  \n",
       "3  https://www.zomato.com/mumbai/joeys-pizza-mala...  \n",
       "4  https://www.zomato.com/mumbai/younion-lower-parel  "
      ]
     },
     "execution_count": 57,
     "metadata": {},
     "output_type": "execute_result"
    }
   ],
   "source": [
    "data = pd.read_csv('restaurant.csv')\n",
    "print(data.shape)\n",
    "data.head()"
   ]
  },
  {
   "cell_type": "code",
   "execution_count": 239,
   "metadata": {},
   "outputs": [],
   "source": [
    "# #Importing packages\n",
    "# import pandas as pd\n",
    "# from selenium import webdriver\n",
    "# from selenium.webdriver.chrome.options import Options\n",
    "# from bs4 import BeautifulSoup as soup\n",
    "# from time import sleep\n",
    "# import random\n",
    "# import csv\n",
    "# '''options = Options()\n",
    "# options.add_argument(\"--headless\")\n",
    "# options.add_argument('--no-sandbox')\n",
    "# options.add_argument('--disable-gpu')\n",
    "# options.add_argument('start-maximized')\n",
    "# options.add_argument('disable-infobars')\n",
    "# options.add_argument(\"--disable-extensions\")'''\n",
    "# CHROMEDRIVER_PATH = \"C:\\\\Users\\\\PRIYANSH\\\\Desktop\\\\Zomato\\\\chromedriver.exe\"\n",
    "# browser = webdriver.Chrome(CHROMEDRIVER_PATH)\n",
    "\n",
    "# def extract_datasets(link):\n",
    "#     browser.get(link)\n",
    "#     contents = soup(browser.page_source, \"html.parser\")\n",
    "#     al = contents.find_all('img')\n",
    "#     return al\n",
    "\n",
    "# url ='https://www.zomato.com/mumbai/cafe-safar-oshiwara' + '/reviews'\n",
    "# browser.get(url)\n",
    "# get = extract_datasets(web_url)\n",
    "\n",
    "# browser.quit()\n",
    "# print(len(get))"
   ]
  },
  {
   "cell_type": "code",
   "execution_count": 238,
   "metadata": {
    "scrolled": true
   },
   "outputs": [],
   "source": [
    "# for i in range(len(get)):\n",
    "#     print( i , get[i].get('alt'))"
   ]
  },
  {
   "cell_type": "code",
   "execution_count": null,
   "metadata": {},
   "outputs": [],
   "source": []
  },
  {
   "cell_type": "code",
   "execution_count": null,
   "metadata": {},
   "outputs": [],
   "source": []
  },
  {
   "cell_type": "code",
   "execution_count": null,
   "metadata": {},
   "outputs": [],
   "source": []
  },
  {
   "cell_type": "markdown",
   "metadata": {},
   "source": [
    "# Ultimate"
   ]
  },
  {
   "cell_type": "code",
   "execution_count": 234,
   "metadata": {},
   "outputs": [
    {
     "name": "stdout",
     "output_type": "stream",
     "text": [
      "Page_Number :  1\n",
      "141 141 141 141 141 141 141 141 141\n",
      "Page_Number :  2\n",
      "279 279 279 279 279 279 279 279 279\n",
      "Page_Number :  3\n",
      "421 421 421 421 421 421 421 421 421\n",
      "Page_Number :  4\n",
      "562 562 562 562 562 562 562 562 562\n",
      "Page_Number :  5\n",
      "712 712 712 712 712 712 712 712 712\n",
      "Page_Number :  6\n",
      "859 859 859 859 859 859 859 859 859\n",
      "Page_Number :  7\n",
      "1005 1005 1005 1005 1005 1005 1005 1005 1005\n",
      "Page_Number :  8\n",
      "1146 1146 1146 1146 1146 1146 1146 1146 1146\n",
      "Page_Number :  9\n",
      "1281 1281 1281 1281 1281 1281 1281 1281 1281\n",
      "Page_Number :  10\n",
      "1431 1431 1431 1431 1431 1431 1431 1431 1431\n",
      "Page_Number :  11\n",
      "1575 1575 1575 1575 1575 1575 1575 1575 1575\n",
      "Page_Number :  12\n",
      "1716 1716 1716 1716 1716 1716 1716 1716 1716\n",
      "Page_Number :  13\n",
      "1844 1844 1844 1844 1844 1844 1844 1844 1844\n",
      "Page_Number :  14\n",
      "1966 1966 1966 1966 1966 1966 1966 1966 1966\n",
      "Page_Number :  15\n",
      "2097 2097 2097 2097 2097 2097 2097 2097 2097\n",
      "Page_Number :  16\n",
      "2238 2238 2238 2238 2238 2238 2238 2238 2238\n",
      "Page_Number :  17\n",
      "2377 2377 2377 2377 2377 2377 2377 2377 2377\n",
      "Page_Number :  18\n",
      "2513 2513 2513 2513 2513 2513 2513 2513 2513\n"
     ]
    }
   ],
   "source": [
    "#Importing packages\n",
    "import pandas as pd\n",
    "from selenium import webdriver\n",
    "from selenium.webdriver.chrome.options import Options\n",
    "from bs4 import BeautifulSoup as soup\n",
    "from time import sleep\n",
    "import random\n",
    "import csv\n",
    "import re\n",
    "headers = {'User-Agent': 'Mozilla/5.0 (Macintosh; Intel Mac OS X 10_11_6) AppleWebKit/537.36 (KHTML, like Gecko) Chrome/77.0.3865.120 Safari/537.36'}\n",
    "\n",
    "'''options = Options()\n",
    "options.add_argument(\"--headless\")\n",
    "options.add_argument('--no-sandbox')\n",
    "options.add_argument('--disable-gpu')\n",
    "options.add_argument('start-maximized')\n",
    "options.add_argument('disable-infobars')\n",
    "options.add_argument(\"--disable-extensions\")'''\n",
    "CHROMEDRIVER_PATH = \"C:\\\\Users\\\\PRIYANSH\\\\Desktop\\\\Zomato\\\\chromedriver.exe\"\n",
    "\n",
    "cll = []\n",
    "cnn = []\n",
    "cfl =[]\n",
    "cre = []\n",
    "crr = []\n",
    "rnn = []\n",
    "rrr = []\n",
    "rll = []\n",
    "time = []\n",
    "browser = webdriver.Chrome(CHROMEDRIVER_PATH)\n",
    "for lnk in range(1 , 19):\n",
    "    link = 'https://www.zomato.com/mumbai/restaurants?page={}'.format(lnk)\n",
    "    browser.get(link)\n",
    "    contents = soup(browser.page_source, \"html.parser\")\n",
    "    search_list = contents.find_all(\"div\", {'id': 'orig-search-list'})\n",
    "    list_content = search_list[0].find_all(\"div\", {'class': 'content'})\n",
    "    print(\"Page_Number : \" , lnk)\n",
    "    for i in range(0,len(list_content)): #len(list_content)\n",
    "        review = []\n",
    "        follower = []\n",
    "        users = []\n",
    "        cl = []\n",
    "        Time = []\n",
    "        cr = []\n",
    "        rr=[]\n",
    "        rn =[]\n",
    "        rl=[]\n",
    "        res_name = list_content[i].find(\"a\", {'data-result-type': 'ResCard_Name'}) \n",
    "        res_ratings = list_content[i].find(\"div\", {'data-variation': 'mini inverted'}) \n",
    "        if ratings is None:\n",
    "            continue\n",
    "        res_url = res_name.get('href')\n",
    "        response_url = requests.get(res_url, headers=headers)\n",
    "        content_url = response_url.content\n",
    "        soup_url = BeautifulSoup(content_url, \"html.parser\")\n",
    "        prof = soup_url.find_all('span' , {'class': \"grey-text fontsize5 nowrap\"})\n",
    "        merch_name = soup_url.find_all(\"div\", {'class': 'header nowrap ui left'})\n",
    "        times =  soup_url.find_all('time')  #'a' , {'class': 'grey-text'}\n",
    "        #followers and reviews\n",
    "        for h in range(len(prof)):\n",
    "            review.append(' '.join(prof[h].text.strip().split()[:2]))\n",
    "            follower.append(' '.join(prof[h].text.strip().split()[3:]))\n",
    "        #user details\n",
    "        for h in range(len(merch_name)):\n",
    "            users.append(merch_name[h].text.strip())\n",
    "            cl.append(merch_name[h].a.get('href'))\n",
    "        #time\n",
    "        for h in range(len(times)):\n",
    "            Time.append(times[h].get('datetime'))\n",
    "        merch_ratings = soup_url.find_all(\"div\", {'class': re.compile(r'ttupper fs12px left bold zdhl2 tooltip*')})\n",
    "        for k in range(len(merch_name)):\n",
    "            cr.append(merch_ratings[k].get('aria-label').split()[1])\n",
    "            rn.append(res_name.text.strip() )\n",
    "            rr.append(res_ratings.text.strip())\n",
    "            rl.append(res_url)\n",
    "        cll+=cl\n",
    "        cnn+=users\n",
    "        cfl+=follower\n",
    "        cre+=review\n",
    "        crr+=cr\n",
    "        rnn+=rn\n",
    "        rrr+= rr\n",
    "        rll+=rl\n",
    "        time+=Time\n",
    "    print(len(cll), len(cnn) , len(cfl) , len(cre) , len(crr) , len(rnn) , len(rrr) , len(rll) , len(time))\n",
    "        \n",
    "browser.quit()"
   ]
  },
  {
   "cell_type": "code",
   "execution_count": 235,
   "metadata": {},
   "outputs": [
    {
     "data": {
      "text/plain": [
       "2513"
      ]
     },
     "execution_count": 235,
     "metadata": {},
     "output_type": "execute_result"
    }
   ],
   "source": [
    "len(cll)"
   ]
  },
  {
   "cell_type": "code",
   "execution_count": 237,
   "metadata": {},
   "outputs": [
    {
     "name": "stdout",
     "output_type": "stream",
     "text": [
      "(2513, 9)\n"
     ]
    },
    {
     "data": {
      "text/html": [
       "<div>\n",
       "<style scoped>\n",
       "    .dataframe tbody tr th:only-of-type {\n",
       "        vertical-align: middle;\n",
       "    }\n",
       "\n",
       "    .dataframe tbody tr th {\n",
       "        vertical-align: top;\n",
       "    }\n",
       "\n",
       "    .dataframe thead th {\n",
       "        text-align: right;\n",
       "    }\n",
       "</style>\n",
       "<table border=\"1\" class=\"dataframe\">\n",
       "  <thead>\n",
       "    <tr style=\"text-align: right;\">\n",
       "      <th></th>\n",
       "      <th>RESTAURANT_NAME</th>\n",
       "      <th>RESTAURANT_RATING</th>\n",
       "      <th>CUSTOMER_NAME</th>\n",
       "      <th>CUSTOMER_RATING</th>\n",
       "      <th>REVIEWS_BY_USER</th>\n",
       "      <th>FOLLOWERS_OF_USER</th>\n",
       "      <th>DELIVERY_TIME</th>\n",
       "      <th>USER_PROFILE_LINK</th>\n",
       "      <th>RESTAURANT_LINK</th>\n",
       "    </tr>\n",
       "  </thead>\n",
       "  <tbody>\n",
       "    <tr>\n",
       "      <td>0</td>\n",
       "      <td>Global Fusion</td>\n",
       "      <td>4.2</td>\n",
       "      <td>Priya Vayeda</td>\n",
       "      <td>5.0</td>\n",
       "      <td>32 Reviews</td>\n",
       "      <td>96 Followers</td>\n",
       "      <td>2019-10-19 15:20:38</td>\n",
       "      <td>https://www.zomato.com/users/priya-vayeda-3588...</td>\n",
       "      <td>https://www.zomato.com/mumbai/global-fusion-marol</td>\n",
       "    </tr>\n",
       "    <tr>\n",
       "      <td>1</td>\n",
       "      <td>Global Fusion</td>\n",
       "      <td>4.2</td>\n",
       "      <td>Viren Baria</td>\n",
       "      <td>5.0</td>\n",
       "      <td>36 Reviews</td>\n",
       "      <td>550 Followers</td>\n",
       "      <td>2019-10-10 22:25:03</td>\n",
       "      <td>https://www.zomato.com/bumblebee26</td>\n",
       "      <td>https://www.zomato.com/mumbai/global-fusion-marol</td>\n",
       "    </tr>\n",
       "    <tr>\n",
       "      <td>2</td>\n",
       "      <td>Global Fusion</td>\n",
       "      <td>4.2</td>\n",
       "      <td>Kripa Shah</td>\n",
       "      <td>5.0</td>\n",
       "      <td>76 Reviews</td>\n",
       "      <td>155 Followers</td>\n",
       "      <td>2019-10-01 13:20:32</td>\n",
       "      <td>https://www.zomato.com/users/kripa-shah-46671418</td>\n",
       "      <td>https://www.zomato.com/mumbai/global-fusion-marol</td>\n",
       "    </tr>\n",
       "    <tr>\n",
       "      <td>3</td>\n",
       "      <td>Global Fusion</td>\n",
       "      <td>4.2</td>\n",
       "      <td>Rohan</td>\n",
       "      <td>4.0</td>\n",
       "      <td>46 Reviews</td>\n",
       "      <td>460 Followers</td>\n",
       "      <td>2019-09-16 19:23:11</td>\n",
       "      <td>https://www.zomato.com/users/rohan-33248917</td>\n",
       "      <td>https://www.zomato.com/mumbai/global-fusion-marol</td>\n",
       "    </tr>\n",
       "    <tr>\n",
       "      <td>4</td>\n",
       "      <td>Global Fusion</td>\n",
       "      <td>4.2</td>\n",
       "      <td>Vishakha Grover</td>\n",
       "      <td>1.0</td>\n",
       "      <td>52 Reviews</td>\n",
       "      <td>153 Followers</td>\n",
       "      <td>2019-09-15 11:17:22</td>\n",
       "      <td>https://www.zomato.com/users/vishakha-grover-3...</td>\n",
       "      <td>https://www.zomato.com/mumbai/global-fusion-marol</td>\n",
       "    </tr>\n",
       "  </tbody>\n",
       "</table>\n",
       "</div>"
      ],
      "text/plain": [
       "  RESTAURANT_NAME RESTAURANT_RATING    CUSTOMER_NAME CUSTOMER_RATING  \\\n",
       "0   Global Fusion               4.2     Priya Vayeda             5.0   \n",
       "1   Global Fusion               4.2      Viren Baria             5.0   \n",
       "2   Global Fusion               4.2       Kripa Shah             5.0   \n",
       "3   Global Fusion               4.2            Rohan             4.0   \n",
       "4   Global Fusion               4.2  Vishakha Grover             1.0   \n",
       "\n",
       "  REVIEWS_BY_USER FOLLOWERS_OF_USER        DELIVERY_TIME  \\\n",
       "0      32 Reviews      96 Followers  2019-10-19 15:20:38   \n",
       "1      36 Reviews     550 Followers  2019-10-10 22:25:03   \n",
       "2      76 Reviews     155 Followers  2019-10-01 13:20:32   \n",
       "3      46 Reviews     460 Followers  2019-09-16 19:23:11   \n",
       "4      52 Reviews     153 Followers  2019-09-15 11:17:22   \n",
       "\n",
       "                                   USER_PROFILE_LINK  \\\n",
       "0  https://www.zomato.com/users/priya-vayeda-3588...   \n",
       "1                 https://www.zomato.com/bumblebee26   \n",
       "2   https://www.zomato.com/users/kripa-shah-46671418   \n",
       "3        https://www.zomato.com/users/rohan-33248917   \n",
       "4  https://www.zomato.com/users/vishakha-grover-3...   \n",
       "\n",
       "                                     RESTAURANT_LINK  \n",
       "0  https://www.zomato.com/mumbai/global-fusion-marol  \n",
       "1  https://www.zomato.com/mumbai/global-fusion-marol  \n",
       "2  https://www.zomato.com/mumbai/global-fusion-marol  \n",
       "3  https://www.zomato.com/mumbai/global-fusion-marol  \n",
       "4  https://www.zomato.com/mumbai/global-fusion-marol  "
      ]
     },
     "execution_count": 237,
     "metadata": {},
     "output_type": "execute_result"
    }
   ],
   "source": [
    "import pandas as pd\n",
    "out = pd.DataFrame()\n",
    "out['RESTAURANT_NAME'] = rnn\n",
    "out['RESTAURANT_RATING'] = rrr\n",
    "out['CUSTOMER_NAME']= cnn\n",
    "out['CUSTOMER_RATING'] = crr\n",
    "out['REVIEWS_BY_USER'] = cre\n",
    "out['FOLLOWERS_OF_USER'] =cfl\n",
    "out['DELIVERY_TIME'] = time\n",
    "out['USER_PROFILE_LINK'] = cll\n",
    "out['RESTAURANT_LINK'] = rll\n",
    "print(out.shape)\n",
    "out.head()"
   ]
  },
  {
   "cell_type": "code",
   "execution_count": 240,
   "metadata": {},
   "outputs": [
    {
     "name": "stdout",
     "output_type": "stream",
     "text": [
      "(2452, 9)\n"
     ]
    }
   ],
   "source": [
    "out = out[out['RESTAURANT_RATING']!='NEW']\n",
    "print(out.shape)"
   ]
  },
  {
   "cell_type": "code",
   "execution_count": 241,
   "metadata": {},
   "outputs": [],
   "source": [
    "out['RESTAURANT_RATING'] = out['RESTAURANT_RATING'].astype('float')\n",
    "out['CUSTOMER_RATING'] = out['CUSTOMER_RATING'].astype('float')\n"
   ]
  },
  {
   "cell_type": "code",
   "execution_count": 242,
   "metadata": {},
   "outputs": [
    {
     "name": "stdout",
     "output_type": "stream",
     "text": [
      "<class 'pandas.core.frame.DataFrame'>\n",
      "Int64Index: 2452 entries, 0 to 2512\n",
      "Data columns (total 9 columns):\n",
      "RESTAURANT_NAME      2452 non-null object\n",
      "RESTAURANT_RATING    2452 non-null float64\n",
      "CUSTOMER_NAME        2452 non-null object\n",
      "CUSTOMER_RATING      2452 non-null float64\n",
      "REVIEWS_BY_USER      2452 non-null object\n",
      "FOLLOWERS_OF_USER    2452 non-null object\n",
      "DELIVERY_TIME        2452 non-null object\n",
      "USER_PROFILE_LINK    2452 non-null object\n",
      "RESTAURANT_LINK      2452 non-null object\n",
      "dtypes: float64(2), object(7)\n",
      "memory usage: 191.6+ KB\n"
     ]
    }
   ],
   "source": [
    "out.info()"
   ]
  },
  {
   "cell_type": "code",
   "execution_count": 243,
   "metadata": {},
   "outputs": [],
   "source": [
    "out.to_csv('output.csv' , index = False)"
   ]
  },
  {
   "cell_type": "markdown",
   "metadata": {},
   "source": [
    "# Modification"
   ]
  },
  {
   "cell_type": "code",
   "execution_count": 244,
   "metadata": {},
   "outputs": [
    {
     "name": "stdout",
     "output_type": "stream",
     "text": [
      "(2452, 9)\n"
     ]
    },
    {
     "data": {
      "text/html": [
       "<div>\n",
       "<style scoped>\n",
       "    .dataframe tbody tr th:only-of-type {\n",
       "        vertical-align: middle;\n",
       "    }\n",
       "\n",
       "    .dataframe tbody tr th {\n",
       "        vertical-align: top;\n",
       "    }\n",
       "\n",
       "    .dataframe thead th {\n",
       "        text-align: right;\n",
       "    }\n",
       "</style>\n",
       "<table border=\"1\" class=\"dataframe\">\n",
       "  <thead>\n",
       "    <tr style=\"text-align: right;\">\n",
       "      <th></th>\n",
       "      <th>RESTAURANT_NAME</th>\n",
       "      <th>RESTAURANT_RATING</th>\n",
       "      <th>CUSTOMER_NAME</th>\n",
       "      <th>CUSTOMER_RATING</th>\n",
       "      <th>REVIEWS_BY_USER</th>\n",
       "      <th>FOLLOWERS_OF_USER</th>\n",
       "      <th>DELIVERY_TIME</th>\n",
       "      <th>USER_PROFILE_LINK</th>\n",
       "      <th>RESTAURANT_LINK</th>\n",
       "    </tr>\n",
       "  </thead>\n",
       "  <tbody>\n",
       "    <tr>\n",
       "      <td>0</td>\n",
       "      <td>Global Fusion</td>\n",
       "      <td>4.2</td>\n",
       "      <td>Priya Vayeda</td>\n",
       "      <td>5.0</td>\n",
       "      <td>32 Reviews</td>\n",
       "      <td>96 Followers</td>\n",
       "      <td>2019-10-19 15:20:38</td>\n",
       "      <td>https://www.zomato.com/users/priya-vayeda-3588...</td>\n",
       "      <td>https://www.zomato.com/mumbai/global-fusion-marol</td>\n",
       "    </tr>\n",
       "    <tr>\n",
       "      <td>1</td>\n",
       "      <td>Global Fusion</td>\n",
       "      <td>4.2</td>\n",
       "      <td>Viren Baria</td>\n",
       "      <td>5.0</td>\n",
       "      <td>36 Reviews</td>\n",
       "      <td>550 Followers</td>\n",
       "      <td>2019-10-10 22:25:03</td>\n",
       "      <td>https://www.zomato.com/bumblebee26</td>\n",
       "      <td>https://www.zomato.com/mumbai/global-fusion-marol</td>\n",
       "    </tr>\n",
       "    <tr>\n",
       "      <td>2</td>\n",
       "      <td>Global Fusion</td>\n",
       "      <td>4.2</td>\n",
       "      <td>Kripa Shah</td>\n",
       "      <td>5.0</td>\n",
       "      <td>76 Reviews</td>\n",
       "      <td>155 Followers</td>\n",
       "      <td>2019-10-01 13:20:32</td>\n",
       "      <td>https://www.zomato.com/users/kripa-shah-46671418</td>\n",
       "      <td>https://www.zomato.com/mumbai/global-fusion-marol</td>\n",
       "    </tr>\n",
       "    <tr>\n",
       "      <td>3</td>\n",
       "      <td>Global Fusion</td>\n",
       "      <td>4.2</td>\n",
       "      <td>Rohan</td>\n",
       "      <td>4.0</td>\n",
       "      <td>46 Reviews</td>\n",
       "      <td>460 Followers</td>\n",
       "      <td>2019-09-16 19:23:11</td>\n",
       "      <td>https://www.zomato.com/users/rohan-33248917</td>\n",
       "      <td>https://www.zomato.com/mumbai/global-fusion-marol</td>\n",
       "    </tr>\n",
       "    <tr>\n",
       "      <td>4</td>\n",
       "      <td>Global Fusion</td>\n",
       "      <td>4.2</td>\n",
       "      <td>Vishakha Grover</td>\n",
       "      <td>1.0</td>\n",
       "      <td>52 Reviews</td>\n",
       "      <td>153 Followers</td>\n",
       "      <td>2019-09-15 11:17:22</td>\n",
       "      <td>https://www.zomato.com/users/vishakha-grover-3...</td>\n",
       "      <td>https://www.zomato.com/mumbai/global-fusion-marol</td>\n",
       "    </tr>\n",
       "  </tbody>\n",
       "</table>\n",
       "</div>"
      ],
      "text/plain": [
       "  RESTAURANT_NAME  RESTAURANT_RATING    CUSTOMER_NAME  CUSTOMER_RATING  \\\n",
       "0   Global Fusion                4.2     Priya Vayeda              5.0   \n",
       "1   Global Fusion                4.2      Viren Baria              5.0   \n",
       "2   Global Fusion                4.2       Kripa Shah              5.0   \n",
       "3   Global Fusion                4.2            Rohan              4.0   \n",
       "4   Global Fusion                4.2  Vishakha Grover              1.0   \n",
       "\n",
       "  REVIEWS_BY_USER FOLLOWERS_OF_USER        DELIVERY_TIME  \\\n",
       "0      32 Reviews      96 Followers  2019-10-19 15:20:38   \n",
       "1      36 Reviews     550 Followers  2019-10-10 22:25:03   \n",
       "2      76 Reviews     155 Followers  2019-10-01 13:20:32   \n",
       "3      46 Reviews     460 Followers  2019-09-16 19:23:11   \n",
       "4      52 Reviews     153 Followers  2019-09-15 11:17:22   \n",
       "\n",
       "                                   USER_PROFILE_LINK  \\\n",
       "0  https://www.zomato.com/users/priya-vayeda-3588...   \n",
       "1                 https://www.zomato.com/bumblebee26   \n",
       "2   https://www.zomato.com/users/kripa-shah-46671418   \n",
       "3        https://www.zomato.com/users/rohan-33248917   \n",
       "4  https://www.zomato.com/users/vishakha-grover-3...   \n",
       "\n",
       "                                     RESTAURANT_LINK  \n",
       "0  https://www.zomato.com/mumbai/global-fusion-marol  \n",
       "1  https://www.zomato.com/mumbai/global-fusion-marol  \n",
       "2  https://www.zomato.com/mumbai/global-fusion-marol  \n",
       "3  https://www.zomato.com/mumbai/global-fusion-marol  \n",
       "4  https://www.zomato.com/mumbai/global-fusion-marol  "
      ]
     },
     "execution_count": 244,
     "metadata": {},
     "output_type": "execute_result"
    }
   ],
   "source": [
    "import pandas as pd\n",
    "data = pd.read_csv('output.csv')\n",
    "print(data.shape)\n",
    "data.head()"
   ]
  },
  {
   "cell_type": "code",
   "execution_count": 248,
   "metadata": {},
   "outputs": [],
   "source": [
    "data['DELIVERY_TIME'] = data['DELIVERY_TIME'].apply(lambda x: x.split()[0])"
   ]
  },
  {
   "cell_type": "code",
   "execution_count": 254,
   "metadata": {},
   "outputs": [],
   "source": [
    "data['DATE'] = data['DELIVERY_TIME'].apply(lambda x: int(x.split('-')[2]))\n",
    "data['MONTH'] = data['DELIVERY_TIME'].apply(lambda x: int(x.split('-')[1]))\n",
    "data['YEAR'] = data['DELIVERY_TIME'].apply(lambda x:int( x.split('-')[0]))"
   ]
  },
  {
   "cell_type": "code",
   "execution_count": 255,
   "metadata": {},
   "outputs": [
    {
     "name": "stdout",
     "output_type": "stream",
     "text": [
      "(2452, 12)\n"
     ]
    },
    {
     "data": {
      "text/html": [
       "<div>\n",
       "<style scoped>\n",
       "    .dataframe tbody tr th:only-of-type {\n",
       "        vertical-align: middle;\n",
       "    }\n",
       "\n",
       "    .dataframe tbody tr th {\n",
       "        vertical-align: top;\n",
       "    }\n",
       "\n",
       "    .dataframe thead th {\n",
       "        text-align: right;\n",
       "    }\n",
       "</style>\n",
       "<table border=\"1\" class=\"dataframe\">\n",
       "  <thead>\n",
       "    <tr style=\"text-align: right;\">\n",
       "      <th></th>\n",
       "      <th>RESTAURANT_NAME</th>\n",
       "      <th>RESTAURANT_RATING</th>\n",
       "      <th>CUSTOMER_NAME</th>\n",
       "      <th>CUSTOMER_RATING</th>\n",
       "      <th>REVIEWS_BY_USER</th>\n",
       "      <th>FOLLOWERS_OF_USER</th>\n",
       "      <th>DELIVERY_TIME</th>\n",
       "      <th>USER_PROFILE_LINK</th>\n",
       "      <th>RESTAURANT_LINK</th>\n",
       "      <th>DATE</th>\n",
       "      <th>MONTH</th>\n",
       "      <th>YEAR</th>\n",
       "    </tr>\n",
       "  </thead>\n",
       "  <tbody>\n",
       "    <tr>\n",
       "      <td>0</td>\n",
       "      <td>Global Fusion</td>\n",
       "      <td>4.2</td>\n",
       "      <td>Priya Vayeda</td>\n",
       "      <td>5.0</td>\n",
       "      <td>32 Reviews</td>\n",
       "      <td>96 Followers</td>\n",
       "      <td>2019-10-19</td>\n",
       "      <td>https://www.zomato.com/users/priya-vayeda-3588...</td>\n",
       "      <td>https://www.zomato.com/mumbai/global-fusion-marol</td>\n",
       "      <td>19</td>\n",
       "      <td>10</td>\n",
       "      <td>2019</td>\n",
       "    </tr>\n",
       "    <tr>\n",
       "      <td>1</td>\n",
       "      <td>Global Fusion</td>\n",
       "      <td>4.2</td>\n",
       "      <td>Viren Baria</td>\n",
       "      <td>5.0</td>\n",
       "      <td>36 Reviews</td>\n",
       "      <td>550 Followers</td>\n",
       "      <td>2019-10-10</td>\n",
       "      <td>https://www.zomato.com/bumblebee26</td>\n",
       "      <td>https://www.zomato.com/mumbai/global-fusion-marol</td>\n",
       "      <td>10</td>\n",
       "      <td>10</td>\n",
       "      <td>2019</td>\n",
       "    </tr>\n",
       "    <tr>\n",
       "      <td>2</td>\n",
       "      <td>Global Fusion</td>\n",
       "      <td>4.2</td>\n",
       "      <td>Kripa Shah</td>\n",
       "      <td>5.0</td>\n",
       "      <td>76 Reviews</td>\n",
       "      <td>155 Followers</td>\n",
       "      <td>2019-10-01</td>\n",
       "      <td>https://www.zomato.com/users/kripa-shah-46671418</td>\n",
       "      <td>https://www.zomato.com/mumbai/global-fusion-marol</td>\n",
       "      <td>1</td>\n",
       "      <td>10</td>\n",
       "      <td>2019</td>\n",
       "    </tr>\n",
       "    <tr>\n",
       "      <td>3</td>\n",
       "      <td>Global Fusion</td>\n",
       "      <td>4.2</td>\n",
       "      <td>Rohan</td>\n",
       "      <td>4.0</td>\n",
       "      <td>46 Reviews</td>\n",
       "      <td>460 Followers</td>\n",
       "      <td>2019-09-16</td>\n",
       "      <td>https://www.zomato.com/users/rohan-33248917</td>\n",
       "      <td>https://www.zomato.com/mumbai/global-fusion-marol</td>\n",
       "      <td>16</td>\n",
       "      <td>9</td>\n",
       "      <td>2019</td>\n",
       "    </tr>\n",
       "    <tr>\n",
       "      <td>4</td>\n",
       "      <td>Global Fusion</td>\n",
       "      <td>4.2</td>\n",
       "      <td>Vishakha Grover</td>\n",
       "      <td>1.0</td>\n",
       "      <td>52 Reviews</td>\n",
       "      <td>153 Followers</td>\n",
       "      <td>2019-09-15</td>\n",
       "      <td>https://www.zomato.com/users/vishakha-grover-3...</td>\n",
       "      <td>https://www.zomato.com/mumbai/global-fusion-marol</td>\n",
       "      <td>15</td>\n",
       "      <td>9</td>\n",
       "      <td>2019</td>\n",
       "    </tr>\n",
       "  </tbody>\n",
       "</table>\n",
       "</div>"
      ],
      "text/plain": [
       "  RESTAURANT_NAME  RESTAURANT_RATING    CUSTOMER_NAME  CUSTOMER_RATING  \\\n",
       "0   Global Fusion                4.2     Priya Vayeda              5.0   \n",
       "1   Global Fusion                4.2      Viren Baria              5.0   \n",
       "2   Global Fusion                4.2       Kripa Shah              5.0   \n",
       "3   Global Fusion                4.2            Rohan              4.0   \n",
       "4   Global Fusion                4.2  Vishakha Grover              1.0   \n",
       "\n",
       "  REVIEWS_BY_USER FOLLOWERS_OF_USER DELIVERY_TIME  \\\n",
       "0      32 Reviews      96 Followers    2019-10-19   \n",
       "1      36 Reviews     550 Followers    2019-10-10   \n",
       "2      76 Reviews     155 Followers    2019-10-01   \n",
       "3      46 Reviews     460 Followers    2019-09-16   \n",
       "4      52 Reviews     153 Followers    2019-09-15   \n",
       "\n",
       "                                   USER_PROFILE_LINK  \\\n",
       "0  https://www.zomato.com/users/priya-vayeda-3588...   \n",
       "1                 https://www.zomato.com/bumblebee26   \n",
       "2   https://www.zomato.com/users/kripa-shah-46671418   \n",
       "3        https://www.zomato.com/users/rohan-33248917   \n",
       "4  https://www.zomato.com/users/vishakha-grover-3...   \n",
       "\n",
       "                                     RESTAURANT_LINK  DATE  MONTH  YEAR  \n",
       "0  https://www.zomato.com/mumbai/global-fusion-marol    19     10  2019  \n",
       "1  https://www.zomato.com/mumbai/global-fusion-marol    10     10  2019  \n",
       "2  https://www.zomato.com/mumbai/global-fusion-marol     1     10  2019  \n",
       "3  https://www.zomato.com/mumbai/global-fusion-marol    16      9  2019  \n",
       "4  https://www.zomato.com/mumbai/global-fusion-marol    15      9  2019  "
      ]
     },
     "execution_count": 255,
     "metadata": {},
     "output_type": "execute_result"
    }
   ],
   "source": [
    "print(data.shape)\n",
    "data.head()"
   ]
  },
  {
   "cell_type": "code",
   "execution_count": 256,
   "metadata": {},
   "outputs": [
    {
     "data": {
      "text/plain": [
       "2019    2430\n",
       "2018      18\n",
       "2015       3\n",
       "2017       1\n",
       "Name: YEAR, dtype: int64"
      ]
     },
     "execution_count": 256,
     "metadata": {},
     "output_type": "execute_result"
    }
   ],
   "source": [
    "data['YEAR'].value_counts()"
   ]
  },
  {
   "cell_type": "code",
   "execution_count": 257,
   "metadata": {},
   "outputs": [
    {
     "data": {
      "text/plain": [
       "10    920\n",
       "9     555\n",
       "8     411\n",
       "7     278\n",
       "6     156\n",
       "5     109\n",
       "4      11\n",
       "11      3\n",
       "3       3\n",
       "2       3\n",
       "12      2\n",
       "1       1\n",
       "Name: MONTH, dtype: int64"
      ]
     },
     "execution_count": 257,
     "metadata": {},
     "output_type": "execute_result"
    }
   ],
   "source": [
    "data['MONTH'].value_counts()"
   ]
  },
  {
   "cell_type": "markdown",
   "metadata": {},
   "source": [
    "# Now i'm gonna write some SQL queries to get data from above table ....here"
   ]
  },
  {
   "cell_type": "markdown",
   "metadata": {},
   "source": [
    "# Write a SQL query to find the number of Zomato users\n"
   ]
  },
  {
   "cell_type": "code",
   "execution_count": null,
   "metadata": {},
   "outputs": [],
   "source": [
    "SELECT COUNT(*)\n",
    "FROM table;"
   ]
  },
  {
   "cell_type": "markdown",
   "metadata": {},
   "source": [
    "# Write a SQL query to find  the list of Zomato users who made more than 10 orders in a particular month"
   ]
  },
  {
   "cell_type": "code",
   "execution_count": null,
   "metadata": {},
   "outputs": [],
   "source": [
    "#first of all perform grouping on users by GROUPBY\n",
    "SELECT * \n",
    "FROM table \n",
    "WHERE MONTH=10 \n",
    "GROUP BY CUSTOMER_NAME;"
   ]
  },
  {
   "cell_type": "code",
   "execution_count": null,
   "metadata": {},
   "outputs": [],
   "source": [
    "#IT WILL SHOW ALLL THE USERS WHO HAVE ORDERS IN OCTOBER MONTH \n",
    "#AFTER THAT WE WILL CALCULATE THE TOTAL NUMBER OF USERS WHO ARE MORE THAN 10 TIMES"
   ]
  },
  {
   "cell_type": "markdown",
   "metadata": {},
   "source": [
    "#  Write a SQL query to find the list of Zomato users who order food from the same restaurants more than 3 times in a week"
   ]
  },
  {
   "cell_type": "code",
   "execution_count": null,
   "metadata": {},
   "outputs": [],
   "source": [
    "# let's take November (9) month and take date 1-7 \n",
    "SELECT *\n",
    "FROM table\n",
    "WHERE MONTH=9 AND (DATE=>1 AND DATE<=7)\n",
    "GROUP BY CUSTOMER_NAME;\n",
    "# HAVING COUNT()"
   ]
  },
  {
   "cell_type": "code",
   "execution_count": null,
   "metadata": {},
   "outputs": [],
   "source": [
    "#AGAIN WE UNIQUE USERS HERE IN A WEEK ,WE WILL COUNT TO CHECK WITHER IT IS HAVING 3 ORDERS IN A WEEK OR NOT"
   ]
  },
  {
   "cell_type": "code",
   "execution_count": null,
   "metadata": {},
   "outputs": [],
   "source": []
  },
  {
   "cell_type": "code",
   "execution_count": null,
   "metadata": {},
   "outputs": [],
   "source": []
  },
  {
   "cell_type": "markdown",
   "metadata": {},
   "source": [
    "# ///@PRIYANSH GUPTA"
   ]
  },
  {
   "cell_type": "code",
   "execution_count": null,
   "metadata": {},
   "outputs": [],
   "source": []
  },
  {
   "cell_type": "code",
   "execution_count": null,
   "metadata": {},
   "outputs": [],
   "source": []
  },
  {
   "cell_type": "markdown",
   "metadata": {},
   "source": [
    "# +++++++++++++++++++++++++++++++++++++++++"
   ]
  },
  {
   "cell_type": "code",
   "execution_count": null,
   "metadata": {},
   "outputs": [],
   "source": []
  }
 ],
 "metadata": {
  "kernelspec": {
   "display_name": "Python 3",
   "language": "python",
   "name": "python3"
  },
  "language_info": {
   "codemirror_mode": {
    "name": "ipython",
    "version": 3
   },
   "file_extension": ".py",
   "mimetype": "text/x-python",
   "name": "python",
   "nbconvert_exporter": "python",
   "pygments_lexer": "ipython3",
   "version": "3.6.7"
  }
 },
 "nbformat": 4,
 "nbformat_minor": 2
}
