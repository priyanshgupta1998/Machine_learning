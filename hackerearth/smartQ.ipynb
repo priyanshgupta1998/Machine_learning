{
  "nbformat": 4,
  "nbformat_minor": 0,
  "metadata": {
    "colab": {
      "name": "TensorFlow with GPU",
      "provenance": [],
      "collapsed_sections": [],
      "toc_visible": true,
      "include_colab_link": true
    },
    "kernelspec": {
      "display_name": "Python 3",
      "name": "python3"
    }
  },
  "cells": [
    {
      "cell_type": "markdown",
      "metadata": {
        "id": "view-in-github",
        "colab_type": "text"
      },
      "source": [
        "<a href=\"https://colab.research.google.com/github/priyanshgupta1998/Machine_learning/blob/master/hackerearth/smartQ.ipynb\" target=\"_parent\"><img src=\"https://colab.research.google.com/assets/colab-badge.svg\" alt=\"Open In Colab\"/></a>"
      ]
    },
    {
      "cell_type": "code",
      "metadata": {
        "id": "K_iNPEDKek94",
        "colab_type": "code",
        "colab": {}
      },
      "source": [
        ""
      ],
      "execution_count": 0,
      "outputs": []
    },
    {
      "cell_type": "markdown",
      "metadata": {
        "id": "-XmVbmb3Raj7",
        "colab_type": "text"
      },
      "source": [
        "#1. first data"
      ]
    },
    {
      "cell_type": "code",
      "metadata": {
        "id": "Ju-oxpJ0kGVC",
        "colab_type": "code",
        "outputId": "7f061bed-eebf-4187-d97c-71bddd3738eb",
        "colab": {
          "base_uri": "https://localhost:8080/",
          "height": 221
        }
      },
      "source": [
        "import pandas as pd\n",
        "liss1= []\n",
        "for i in range(13, 113):\n",
        "  liss1.append(i)\n",
        "data1 = pd.read_csv('smartq.csv',skiprows = liss1)\n",
        "data1['timeslot1'] = data1['availabletime'].apply(lambda x:x.split(',')[0])\n",
        "data1['timeslot2'] = data1['availabletime'].apply(lambda x:x.split(',')[1])\n",
        "time1 = []\n",
        "time2 = []\n",
        "items = []\n",
        "for i in range(len(data1)):\n",
        "  time1.append(list(data1['timeslot1'])[i])\n",
        "  time2.append(list(data1['timeslot2'])[i])\n",
        "  items.append(list(data1['itemname'])[i])\n",
        "df1 = pd.DataFrame()\n",
        "df1['item'] = items + items\n",
        "df1['timeslot'] = time1+time2\n",
        "df1['intTime'] = df1['timeslot'].apply(lambda x:','.join([str(int(x.split('-')[0].split(':')[0])*60 + int(x.split('-')[0].split(':')[1])) , str(int(x.split('-')[1].split(':')[0])*60 +int(x.split('-')[1].split(':')[1]))]))\n",
        "\n",
        "st= [420 ,750 , 990 , 1170]\n",
        "e = [660 ,750 , 930 ,990 , 1140 ,1170,1380]\n",
        "dic = ['Breakfast', 'Lunch' , 'Snack' , 'Dinner']\n",
        "k=0\n",
        "good = []\n",
        "for i in range(len(st)):\n",
        "  count = 0\n",
        "  s = i\n",
        "  aaj = dic[i]\n",
        "  for j in range(k,len(e)):\n",
        "    good.append(aaj)\n",
        "    count+=1\n",
        "    if(count==2):\n",
        "      count=0\n",
        "      s+=1\n",
        "      aaj = aaj +','+ dic[s]\n",
        "  k+=2\n",
        "joker = []\n",
        "for i in range(len(st)):\n",
        "  for j in range(len(e)):\n",
        "    l =str(st[i]) + ',' + str(e[j])\n",
        "    joker.append(l)\n",
        "\n",
        "\n",
        "go =[]\n",
        "for i in range(len(good)):\n",
        "  go.append(good[i] + '_'+ joker[i])\n",
        "go.sort(reverse = True)\n",
        "joker1 = []\n",
        "good1 = []\n",
        "for i in range(len(go)):\n",
        "  good1.append(go[i].split('_')[0])\n",
        "  joker1.append(go[i].split('_')[1])\n",
        "res = []\n",
        "for i in range(len(df1)):\n",
        "  x = list(df1['intTime'])[i]\n",
        "  x1 =int( x.split(',')[0])\n",
        "  x2 = int(x.split(',')[1])\n",
        "  for j in range(len(good)):\n",
        "    y1 = int(joker1[j].split(',')[0])\n",
        "    y2 = int(joker1[j].split(',')[1])\n",
        "    if(x1>=y1 and x2<=y2):\n",
        "      res.append(good1[j])\n",
        "      break\n",
        "df1['have'] = res\n",
        "print(df1.shape)\n",
        "df1.head()"
      ],
      "execution_count": 0,
      "outputs": [
        {
          "output_type": "stream",
          "text": [
            "(24, 4)\n"
          ],
          "name": "stdout"
        },
        {
          "output_type": "execute_result",
          "data": {
            "text/html": [
              "<div>\n",
              "<style scoped>\n",
              "    .dataframe tbody tr th:only-of-type {\n",
              "        vertical-align: middle;\n",
              "    }\n",
              "\n",
              "    .dataframe tbody tr th {\n",
              "        vertical-align: top;\n",
              "    }\n",
              "\n",
              "    .dataframe thead th {\n",
              "        text-align: right;\n",
              "    }\n",
              "</style>\n",
              "<table border=\"1\" class=\"dataframe\">\n",
              "  <thead>\n",
              "    <tr style=\"text-align: right;\">\n",
              "      <th></th>\n",
              "      <th>item</th>\n",
              "      <th>timeslot</th>\n",
              "      <th>intTime</th>\n",
              "      <th>have</th>\n",
              "    </tr>\n",
              "  </thead>\n",
              "  <tbody>\n",
              "    <tr>\n",
              "      <th>0</th>\n",
              "      <td>idli</td>\n",
              "      <td>7:00 - 11:00</td>\n",
              "      <td>420,660</td>\n",
              "      <td>Breakfast</td>\n",
              "    </tr>\n",
              "    <tr>\n",
              "      <th>1</th>\n",
              "      <td>vada</td>\n",
              "      <td>7:00 - 11:00</td>\n",
              "      <td>420,660</td>\n",
              "      <td>Breakfast</td>\n",
              "    </tr>\n",
              "    <tr>\n",
              "      <th>2</th>\n",
              "      <td>rava idli</td>\n",
              "      <td>7:00 - 11:00</td>\n",
              "      <td>420,660</td>\n",
              "      <td>Breakfast</td>\n",
              "    </tr>\n",
              "    <tr>\n",
              "      <th>3</th>\n",
              "      <td>set dosa</td>\n",
              "      <td>7:00 - 11:00</td>\n",
              "      <td>420,660</td>\n",
              "      <td>Breakfast</td>\n",
              "    </tr>\n",
              "    <tr>\n",
              "      <th>4</th>\n",
              "      <td>ghee dosa</td>\n",
              "      <td>7:00 - 11:00</td>\n",
              "      <td>420,660</td>\n",
              "      <td>Breakfast</td>\n",
              "    </tr>\n",
              "  </tbody>\n",
              "</table>\n",
              "</div>"
            ],
            "text/plain": [
              "        item      timeslot  intTime       have\n",
              "0       idli  7:00 - 11:00  420,660  Breakfast\n",
              "1       vada  7:00 - 11:00  420,660  Breakfast\n",
              "2  rava idli  7:00 - 11:00  420,660  Breakfast\n",
              "3   set dosa  7:00 - 11:00  420,660  Breakfast\n",
              "4  ghee dosa  7:00 - 11:00  420,660  Breakfast"
            ]
          },
          "metadata": {
            "tags": []
          },
          "execution_count": 164
        }
      ]
    },
    {
      "cell_type": "markdown",
      "metadata": {
        "id": "B8_baTdHRXD2",
        "colab_type": "text"
      },
      "source": [
        "#2. second data"
      ]
    },
    {
      "cell_type": "code",
      "metadata": {
        "id": "mOYhj4K2kGP-",
        "colab_type": "code",
        "outputId": "ee9751e6-05bd-4c0f-e1b5-5bae10bb6feb",
        "colab": {
          "base_uri": "https://localhost:8080/",
          "height": 221
        }
      },
      "source": [
        "import ast\n",
        "import re\n",
        "liss2= []\n",
        "for i in range(13):\n",
        "  liss2.append(i)\n",
        "data2 = pd.read_csv('smartq.csv',skiprows = liss2)\n",
        "df2 = data2.copy()\n",
        "data2['date'] = data2['timestamp'].apply(lambda x:'-'.join(x.split()[0].split('-')[::-1]))\n",
        "data2['time'] = data2['timestamp'].apply(lambda x:x.split()[1])\n",
        "data2['item'] = data2['orderedItems'].apply(lambda x:ast.literal_eval(re.sub('’','\"' , re.sub('‘','\"' , x)))[0]['itemname'])\n",
        "data2['quantity'] = data2['orderedItems'].apply(lambda x:ast.literal_eval(re.sub('’','\"' , re.sub('‘','\"' , x)))[0]['quantity'])\n",
        "data2.rename(columns={'billamount': 'bill'}, inplace=True)\n",
        "data2.drop(['orderid','orderedItems' ,  'timestamp'] , inplace=True , axis=1)\n",
        "print(data2.shape)\n",
        "data2.head()"
      ],
      "execution_count": 0,
      "outputs": [
        {
          "output_type": "stream",
          "text": [
            "(99, 6)\n"
          ],
          "name": "stdout"
        },
        {
          "output_type": "execute_result",
          "data": {
            "text/html": [
              "<div>\n",
              "<style scoped>\n",
              "    .dataframe tbody tr th:only-of-type {\n",
              "        vertical-align: middle;\n",
              "    }\n",
              "\n",
              "    .dataframe tbody tr th {\n",
              "        vertical-align: top;\n",
              "    }\n",
              "\n",
              "    .dataframe thead th {\n",
              "        text-align: right;\n",
              "    }\n",
              "</style>\n",
              "<table border=\"1\" class=\"dataframe\">\n",
              "  <thead>\n",
              "    <tr style=\"text-align: right;\">\n",
              "      <th></th>\n",
              "      <th>restaurantid</th>\n",
              "      <th>bill</th>\n",
              "      <th>date</th>\n",
              "      <th>time</th>\n",
              "      <th>item</th>\n",
              "      <th>quantity</th>\n",
              "    </tr>\n",
              "  </thead>\n",
              "  <tbody>\n",
              "    <tr>\n",
              "      <th>0</th>\n",
              "      <td>kanti sagar</td>\n",
              "      <td>40</td>\n",
              "      <td>21-10-2019</td>\n",
              "      <td>7:00:23</td>\n",
              "      <td>vada</td>\n",
              "      <td>2</td>\n",
              "    </tr>\n",
              "    <tr>\n",
              "      <th>1</th>\n",
              "      <td>hatti kaapi</td>\n",
              "      <td>35</td>\n",
              "      <td>21-10-2019</td>\n",
              "      <td>7:02:24</td>\n",
              "      <td>puttu</td>\n",
              "      <td>1</td>\n",
              "    </tr>\n",
              "    <tr>\n",
              "      <th>2</th>\n",
              "      <td>kanti sagar</td>\n",
              "      <td>20</td>\n",
              "      <td>21-10-2019</td>\n",
              "      <td>7:04:24</td>\n",
              "      <td>Idli</td>\n",
              "      <td>1</td>\n",
              "    </tr>\n",
              "    <tr>\n",
              "      <th>3</th>\n",
              "      <td>kanti sagar</td>\n",
              "      <td>40</td>\n",
              "      <td>21-10-2019</td>\n",
              "      <td>7:06:24</td>\n",
              "      <td>vada</td>\n",
              "      <td>2</td>\n",
              "    </tr>\n",
              "    <tr>\n",
              "      <th>4</th>\n",
              "      <td>MTR</td>\n",
              "      <td>70</td>\n",
              "      <td>21-10-2019</td>\n",
              "      <td>7:08:24</td>\n",
              "      <td>set dosa</td>\n",
              "      <td>1</td>\n",
              "    </tr>\n",
              "  </tbody>\n",
              "</table>\n",
              "</div>"
            ],
            "text/plain": [
              "  restaurantid  bill        date     time      item  quantity\n",
              "0  kanti sagar    40  21-10-2019  7:00:23      vada         2\n",
              "1  hatti kaapi    35  21-10-2019  7:02:24     puttu         1\n",
              "2  kanti sagar    20  21-10-2019  7:04:24      Idli         1\n",
              "3  kanti sagar    40  21-10-2019  7:06:24      vada         2\n",
              "4          MTR    70  21-10-2019  7:08:24  set dosa         1"
            ]
          },
          "metadata": {
            "tags": []
          },
          "execution_count": 51
        }
      ]
    },
    {
      "cell_type": "markdown",
      "metadata": {
        "id": "Xwv2ekYqKZjn",
        "colab_type": "text"
      },
      "source": [
        "#1.)Restaurent wise sales"
      ]
    },
    {
      "cell_type": "code",
      "metadata": {
        "id": "XYLBp6lrI-d8",
        "colab_type": "code",
        "outputId": "5efd3664-4801-4a24-b7a1-016438bdc4b8",
        "colab": {
          "base_uri": "https://localhost:8080/",
          "height": 68
        }
      },
      "source": [
        "resid = input(\"Enter the Restaurant ID : \" )\n",
        "date = input(\"Enter the date : \")\n",
        "new_d2 = data2[(data2['restaurantid']==resid) & (data2['date']==date)].quantity.sum()\n",
        "print(\"Total sales sample : \" , new_d2)"
      ],
      "execution_count": 0,
      "outputs": [
        {
          "output_type": "stream",
          "text": [
            "Enter the Restaurant ID : tuckshop\n",
            "Enter the date : 21-10-2019\n",
            "Total sales sample :  20\n"
          ],
          "name": "stdout"
        }
      ]
    },
    {
      "cell_type": "markdown",
      "metadata": {
        "id": "x-wPNQGSNFy9",
        "colab_type": "text"
      },
      "source": [
        "#2.) Item availability _>particular request"
      ]
    },
    {
      "cell_type": "code",
      "metadata": {
        "id": "6yrZgPZ9kGOB",
        "colab_type": "code",
        "outputId": "1ed81693-e2ee-47d9-ae35-2112e2e658d5",
        "colab": {
          "base_uri": "https://localhost:8080/",
          "height": 85
        }
      },
      "source": [
        "resid = input(\"Enter the Restaurant ID : \" )\n",
        "item = input(\"Enter the sample Item : \" )\n",
        "date = input(\"Enter the date : \")\n",
        "new_d2 = data2[(data2['restaurantid']==resid) & (data2['item']==item) & (data2['date']==date)].quantity.sum()\n",
        "if(new_d2>0):\n",
        "  print(\"Item Available ,  {} quantity sold\".format(new_d2))\n",
        "else:\n",
        "  print(\"Item Not Available ,0 quantity sold\")"
      ],
      "execution_count": 0,
      "outputs": [
        {
          "output_type": "stream",
          "text": [
            "Enter the Restaurant ID : tuckshop\n",
            "Enter the sample Item : set dosa\n",
            "Enter the date : 21-10-2019\n",
            "Item Available ,  5 quantity sold\n"
          ],
          "name": "stdout"
        }
      ]
    },
    {
      "cell_type": "code",
      "metadata": {
        "id": "twsbcZPnkGL-",
        "colab_type": "code",
        "outputId": "11a9e039-3a98-4ab0-db77-b7fca17fab33",
        "colab": {
          "base_uri": "https://localhost:8080/",
          "height": 119
        }
      },
      "source": [
        "data2['restaurantid'].value_counts()"
      ],
      "execution_count": 0,
      "outputs": [
        {
          "output_type": "execute_result",
          "data": {
            "text/plain": [
              "tuckshop        20\n",
              "MTR             20\n",
              "hatti kaapi     20\n",
              "udupi palace    20\n",
              "kanti sagar     19\n",
              "Name: restaurantid, dtype: int64"
            ]
          },
          "metadata": {
            "tags": []
          },
          "execution_count": 9
        }
      ]
    }
  ]
}