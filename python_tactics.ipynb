{
  "nbformat": 4,
  "nbformat_minor": 0,
  "metadata": {
    "colab": {
      "name": "TensorFlow with GPU",
      "provenance": [],
      "collapsed_sections": [],
      "toc_visible": true,
      "include_colab_link": true
    },
    "kernelspec": {
      "display_name": "Python 3",
      "name": "python3"
    }
  },
  "cells": [
    {
      "cell_type": "markdown",
      "metadata": {
        "id": "view-in-github",
        "colab_type": "text"
      },
      "source": [
        "<a href=\"https://colab.research.google.com/github/priyanshgupta1998/Machine_learning/blob/master/python_tactics.ipynb\" target=\"_parent\"><img src=\"https://colab.research.google.com/assets/colab-badge.svg\" alt=\"Open In Colab\"/></a>"
      ]
    },
    {
      "cell_type": "code",
      "metadata": {
        "id": "_34upJETjiWr",
        "colab_type": "code",
        "colab": {
          "base_uri": "https://localhost:8080/",
          "height": 85
        },
        "outputId": "5756989a-9aa6-4cab-938d-fbdcbd282d0d"
      },
      "source": [
        "def add_tw0_nums(x, y): # normal function which returns data\n",
        "    return x + y\n",
        "\n",
        "def add_three_nums(x, y, z): # normal function which returns data\n",
        "    return x + y + z\n",
        "\n",
        "def get_appropriate_function(num_len): # function which returns functions depending on the logic\n",
        "    if num_len == 3:\n",
        "        return add_three_nums\n",
        "    else:\n",
        "        return add_tw0_nums\n",
        "\n",
        "\n",
        "if __name__ == \"__main__\":\n",
        "    args = [1, 2, 3]\n",
        "    num_len = len(args)\n",
        "    res_function = get_appropriate_function(num_len)\n",
        "    print(res_function)       # <function add_three_nums at 0x7f8f34173668>\n",
        "    print(res_function(*args)) # unpack the args, output 6\n",
        "\n",
        "    args = [1, 2]\n",
        "    num_len = len(args)\n",
        "    res_function = get_appropriate_function(num_len)\n",
        "    print(res_function)       # <function add_tw0_nums at 0x7f1630955e18>\n",
        "    print(res_function(*args)) # unpack the args, output 3"
      ],
      "execution_count": 1,
      "outputs": [
        {
          "output_type": "stream",
          "text": [
            "<function add_three_nums at 0x7f32817bfae8>\n",
            "6\n",
            "<function add_tw0_nums at 0x7f32817bf8c8>\n",
            "3\n"
          ],
          "name": "stdout"
        }
      ]
    },
    {
      "cell_type": "code",
      "metadata": {
        "id": "dpC-B7S1jiYZ",
        "colab_type": "code",
        "colab": {}
      },
      "source": [
        ""
      ],
      "execution_count": 0,
      "outputs": []
    },
    {
      "cell_type": "code",
      "metadata": {
        "id": "qZludNThjioJ",
        "colab_type": "code",
        "colab": {
          "base_uri": "https://localhost:8080/",
          "height": 34
        },
        "outputId": "1e60eec9-fdbc-42f0-9f49-fda99b648d7f"
      },
      "source": [
        "def summation(nums): # normal function\n",
        "    return sum(nums)\n",
        "\n",
        "def main(f, *args): # function as an argument\n",
        "    result = f(*args)\n",
        "    print(result)\n",
        "\n",
        "if __name__ == \"__main__\":\n",
        "    main(summation, [1,2,3]) # output 6"
      ],
      "execution_count": 2,
      "outputs": [
        {
          "output_type": "stream",
          "text": [
            "6\n"
          ],
          "name": "stdout"
        }
      ]
    },
    {
      "cell_type": "code",
      "metadata": {
        "id": "bFRsWMr2jisD",
        "colab_type": "code",
        "colab": {
          "base_uri": "https://localhost:8080/",
          "height": 51
        },
        "outputId": "c287dadb-9017-481b-cf05-34eef202074c"
      },
      "source": [
        "def add_5():\n",
        "    five = 5\n",
        "    def add(arg): # nesting functions\n",
        "        return arg + five\n",
        "    return add\n",
        "\n",
        "if __name__ == '__main__':\n",
        "    closure1 = add_5()\n",
        "    print(closure1(1)) # output 6\n",
        "    print(closure1(2)) # output 7"
      ],
      "execution_count": 3,
      "outputs": [
        {
          "output_type": "stream",
          "text": [
            "6\n",
            "7\n"
          ],
          "name": "stdout"
        }
      ]
    },
    {
      "cell_type": "code",
      "metadata": {
        "id": "1ROI378bjimB",
        "colab_type": "code",
        "colab": {
          "base_uri": "https://localhost:8080/",
          "height": 51
        },
        "outputId": "7b17f5f4-b3b9-4c6a-9fc3-13ba940ceb4c"
      },
      "source": [
        "def check(f):   #here 'f' refers to 'my_code' function\n",
        "    def wrapper(*args):\n",
        "        res = f(*args)\n",
        "        if isinstance(res, dict):\n",
        "            print(\"checked that the return value is dict\")\n",
        "            return res\n",
        "    return wrapper\n",
        "\n",
        "@check\n",
        "def my_code(args):\n",
        "    return {\"lang\": args}\n",
        "\n",
        "print(my_code(\"python\"))"
      ],
      "execution_count": 14,
      "outputs": [
        {
          "output_type": "stream",
          "text": [
            "checked that the return value is dict\n",
            "{'lang': 'python'}\n"
          ],
          "name": "stdout"
        }
      ]
    },
    {
      "cell_type": "code",
      "metadata": {
        "id": "Qj8sX6Ddjik4",
        "colab_type": "code",
        "colab": {
          "base_uri": "https://localhost:8080/",
          "height": 85
        },
        "outputId": "9436ab13-3bec-4aaa-a188-beff12fc9b8e"
      },
      "source": [
        "# Python program to illustrate \n",
        "# *args for variable number of arguments \n",
        "def myFun(*argv):\n",
        "  # print(type(argv))\n",
        "  for arg in argv:\n",
        "    print (arg) \n",
        "\t\n",
        "myFun('Hello', 'Welcome', 'to', 'GeeksforGeeks') \n"
      ],
      "execution_count": 18,
      "outputs": [
        {
          "output_type": "stream",
          "text": [
            "Hello\n",
            "Welcome\n",
            "to\n",
            "GeeksforGeeks\n"
          ],
          "name": "stdout"
        }
      ]
    },
    {
      "cell_type": "code",
      "metadata": {
        "id": "d_utDx4ZjiiI",
        "colab_type": "code",
        "colab": {
          "base_uri": "https://localhost:8080/",
          "height": 85
        },
        "outputId": "33e0c74d-3105-4c66-86e4-f6cc1abbc993"
      },
      "source": [
        "# Python program to illustrate \n",
        "# *args with first extra argument \n",
        "def myFun(arg1, *argv): \n",
        "\tprint (\"First argument :\", arg1) \n",
        "\tfor arg in argv: \n",
        "\t\tprint(\"Next argument through *argv :\", arg) \n",
        "\n",
        "myFun('Hello', 'Welcome', 'to', 'GeeksforGeeks') \n"
      ],
      "execution_count": 19,
      "outputs": [
        {
          "output_type": "stream",
          "text": [
            "First argument : Hello\n",
            "Next argument through *argv : Welcome\n",
            "Next argument through *argv : to\n",
            "Next argument through *argv : GeeksforGeeks\n"
          ],
          "name": "stdout"
        }
      ]
    },
    {
      "cell_type": "code",
      "metadata": {
        "id": "GOdMEaGEjifO",
        "colab_type": "code",
        "colab": {
          "base_uri": "https://localhost:8080/",
          "height": 68
        },
        "outputId": "1e6bbc39-3e8b-4358-a65e-744566463663"
      },
      "source": [
        "# Python program to illustrate \n",
        "# *kargs for variable number of keyword arguments \n",
        "\n",
        "def myFun(**kwargs):\n",
        "  # print(type(kwargs))\n",
        "  for key, value in kwargs.items():\n",
        "    print (\"%s == %s\" %(key, value)) \n",
        "\n",
        "# Driver code \n",
        "myFun(first ='Geeks', mid ='for', last='Geeks')\t \n"
      ],
      "execution_count": 24,
      "outputs": [
        {
          "output_type": "stream",
          "text": [
            "first == Geeks\n",
            "mid == for\n",
            "last == Geeks\n"
          ],
          "name": "stdout"
        }
      ]
    },
    {
      "cell_type": "code",
      "metadata": {
        "id": "3-tbGBH9jid1",
        "colab_type": "code",
        "colab": {
          "base_uri": "https://localhost:8080/",
          "height": 68
        },
        "outputId": "38c61153-9e36-409e-be4e-8c155ee2e312"
      },
      "source": [
        "# Python program to illustrate **kargs for \n",
        "# variable number of keyword arguments with \n",
        "# one extra argument. \n",
        "\n",
        "def myFun(arg1, **kwargs): \n",
        "\tfor key, value in kwargs.items(): \n",
        "\t\tprint (\"%s == %s\" %(key, value)) \n",
        "\n",
        "# Driver code \n",
        "myFun(\"Hi\", first ='Geeks', mid ='for', last='Geeks')\t \n"
      ],
      "execution_count": 25,
      "outputs": [
        {
          "output_type": "stream",
          "text": [
            "first == Geeks\n",
            "mid == for\n",
            "last == Geeks\n"
          ],
          "name": "stdout"
        }
      ]
    },
    {
      "cell_type": "code",
      "metadata": {
        "id": "Ac6-JRY8jibo",
        "colab_type": "code",
        "colab": {
          "base_uri": "https://localhost:8080/",
          "height": 119
        },
        "outputId": "4344fb94-c0d3-46c7-9410-97dc04f8f4ba"
      },
      "source": [
        "def myFun(arg1, arg2, arg3): \n",
        "\tprint(\"arg1:\", arg1) \n",
        "\tprint(\"arg2:\", arg2) \n",
        "\tprint(\"arg3:\", arg3) \n",
        "\t\n",
        "# Now we can use *args or **kwargs to \n",
        "# pass arguments to this function : \n",
        "args = (\"Geeks\", \"for\", \"Geeks\") \n",
        "myFun(*args) \n",
        "\n",
        "kwargs = {\"arg1\" : \"Geeks\", \"arg2\" : \"for\", \"arg3\" : \"Geeks\"} \n",
        "myFun(**kwargs) \n"
      ],
      "execution_count": 26,
      "outputs": [
        {
          "output_type": "stream",
          "text": [
            "arg1: Geeks\n",
            "arg2: for\n",
            "arg3: Geeks\n",
            "arg1: Geeks\n",
            "arg2: for\n",
            "arg3: Geeks\n"
          ],
          "name": "stdout"
        }
      ]
    },
    {
      "cell_type": "code",
      "metadata": {
        "id": "bGAJ1mXTpXMa",
        "colab_type": "code",
        "colab": {
          "base_uri": "https://localhost:8080/",
          "height": 34
        },
        "outputId": "f9839a72-648b-4566-a621-d91c28440d01"
      },
      "source": [
        "def hello_world(k):\n",
        "    def world(k):\n",
        "        print(k)\n",
        "    return world # returning functions\n",
        "\n",
        "h = hello_world # assigning   --> storing the object of the function in the variable 'h'\n",
        "h(\"hello\") # assigning"
      ],
      "execution_count": 31,
      "outputs": [
        {
          "output_type": "execute_result",
          "data": {
            "text/plain": [
              "<function __main__.hello_world.<locals>.world>"
            ]
          },
          "metadata": {
            "tags": []
          },
          "execution_count": 31
        }
      ]
    },
    {
      "cell_type": "code",
      "metadata": {
        "id": "Ji6kRRb_pYOG",
        "colab_type": "code",
        "colab": {
          "base_uri": "https://localhost:8080/",
          "height": 51
        },
        "outputId": "8460003d-ece1-4273-af74-4e32705468ce"
      },
      "source": [
        "def hello_world(h):\n",
        "    def world(w):\n",
        "        print( h, w)\n",
        "    return world # returning functions\n",
        "\n",
        "h = hello_world # assigning   --> storing the object of the function in the variable 'h'\n",
        "x = h(\"hello\") # assigning\n",
        "print(x)\n",
        "x(\"world\")"
      ],
      "execution_count": 42,
      "outputs": [
        {
          "output_type": "stream",
          "text": [
            "<function hello_world.<locals>.world at 0x7f3280e779d8>\n",
            "hello world\n"
          ],
          "name": "stdout"
        }
      ]
    },
    {
      "cell_type": "code",
      "metadata": {
        "id": "y4idN_gtpYZk",
        "colab_type": "code",
        "colab": {
          "base_uri": "https://localhost:8080/",
          "height": 34
        },
        "outputId": "ab42289e-68ca-4f0f-e321-86d405a09d23"
      },
      "source": [
        "def calc():\n",
        "    def world(num):\n",
        "        print(6+num)\n",
        "    return world # returning functions\n",
        "\n",
        "h = calc()   # assigning   --> storing the object of the function in the variable 'h'\n",
        "h(5) # assigning"
      ],
      "execution_count": 37,
      "outputs": [
        {
          "output_type": "stream",
          "text": [
            "11\n"
          ],
          "name": "stdout"
        }
      ]
    },
    {
      "cell_type": "code",
      "metadata": {
        "id": "2UJ0nj1XpYez",
        "colab_type": "code",
        "colab": {
          "base_uri": "https://localhost:8080/",
          "height": 34
        },
        "outputId": "815fd95c-bbc0-431a-aa18-bae658420f37"
      },
      "source": [
        "def func1():\n",
        "    return 1\n",
        "\n",
        "def func2():\n",
        "    return 2\n",
        "\n",
        "def func3():\n",
        "    return 3\n",
        "\n",
        "executing = lambda f: f()\n",
        "list(map(executing, [func1, func2, func3]))"
      ],
      "execution_count": 45,
      "outputs": [
        {
          "output_type": "execute_result",
          "data": {
            "text/plain": [
              "[1, 2, 3]"
            ]
          },
          "metadata": {
            "tags": []
          },
          "execution_count": 45
        }
      ]
    },
    {
      "cell_type": "code",
      "metadata": {
        "id": "zGd5L24apYV5",
        "colab_type": "code",
        "colab": {
          "base_uri": "https://localhost:8080/",
          "height": 51
        },
        "outputId": "48b4150b-0334-401e-c914-75fd73230010"
      },
      "source": [
        "# python code to demonstrate working of reduce() \n",
        "#reduce() stores the intermediate result and only returns the final summation value.\n",
        "# importing functools for reduce() \n",
        "import functools \n",
        "# initializing list \n",
        "lis = [ 1 , 3, 5, 6, 2, ] \n",
        "\n",
        "# using reduce to compute sum of list \n",
        "print (\"The sum of the list elements is : \",end=\"\") \n",
        "print (functools.reduce(lambda a,b : a+b,lis)) \n",
        "\n",
        "# using reduce to compute maximum element from list \n",
        "print (\"The maximum element of the list is : \",end=\"\") \n",
        "print (functools.reduce(lambda a,b : a if a > b else b,lis)) \n"
      ],
      "execution_count": 46,
      "outputs": [
        {
          "output_type": "stream",
          "text": [
            "The sum of the list elements is : 17\n",
            "The maximum element of the list is : 6\n"
          ],
          "name": "stdout"
        }
      ]
    },
    {
      "cell_type": "code",
      "metadata": {
        "id": "bwR7iLJjpYUM",
        "colab_type": "code",
        "colab": {
          "base_uri": "https://localhost:8080/",
          "height": 34
        },
        "outputId": "53d3c424-941f-47ef-b0f1-b37a7ac894c3"
      },
      "source": [
        "def call(x,f):\n",
        "    return f(x)\n",
        "\n",
        "# define a function that returns the square\n",
        "square = lambda x : x*x\n",
        "\n",
        "# define a function that returns the increment\n",
        "increment = lambda x : x+1\n",
        "\n",
        "# define a function that returns the cube\n",
        "cube = lambda x : x*x*x\n",
        "\n",
        "# define a function that returns the decrement\n",
        "decrement = lambda x : x-1\n",
        "\n",
        "# put all the functions in a list in the order that you want to execute them\n",
        "funcs = [square, increment, cube, decrement]\n",
        "\n",
        "# bring it all together. Below is the non functional part. \n",
        "# in functional programming you separate the functional and the non functional parts.\n",
        "from functools import reduce # reduce is in the functools library\n",
        "print(reduce(call, funcs, 96))"
      ],
      "execution_count": 4,
      "outputs": [
        {
          "output_type": "stream",
          "text": [
            "783012621312\n"
          ],
          "name": "stdout"
        }
      ]
    },
    {
      "cell_type": "code",
      "metadata": {
        "id": "xqw_hZzPpYRy",
        "colab_type": "code",
        "colab": {
          "base_uri": "https://localhost:8080/",
          "height": 51
        },
        "outputId": "1d0f3b80-3327-4bee-e4eb-cf8781b8d030"
      },
      "source": [
        "# Python3 program to demonstrate the use of \n",
        "# choice() method \n",
        "\n",
        "# import random \n",
        "import random \n",
        "\n",
        "# prints a random value from the list \n",
        "list1 = [1, 2, 3, 4, 5, 6] \n",
        "print(random.choice(list1)) \n",
        "\n",
        "# prints a random item from the string \n",
        "string = \"striver\"\n",
        "print(random.choice(string))"
      ],
      "execution_count": 9,
      "outputs": [
        {
          "output_type": "stream",
          "text": [
            "1\n",
            "r\n"
          ],
          "name": "stdout"
        }
      ]
    },
    {
      "cell_type": "code",
      "metadata": {
        "id": "jl8ap_wLpXY3",
        "colab_type": "code",
        "colab": {
          "base_uri": "https://localhost:8080/",
          "height": 68
        },
        "outputId": "c3301cac-5eda-4f2f-d0aa-e04bc3f9ecb1"
      },
      "source": [
        "try:\n",
        "    print(\"enter in try \")\n",
        "    print(1/0)  #got errror here --> exception\n",
        "    print(\"leaving from try\")\n",
        "except:\n",
        "    print(\"In the except block\")\n",
        "finally:\n",
        "    print(\"In the finally block\")  #it will run always in all the condition "
      ],
      "execution_count": 12,
      "outputs": [
        {
          "output_type": "stream",
          "text": [
            "enter in try \n",
            "In the except block\n",
            "In the finally block\n"
          ],
          "name": "stdout"
        }
      ]
    },
    {
      "cell_type": "code",
      "metadata": {
        "id": "-omIOooFpXgR",
        "colab_type": "code",
        "colab": {}
      },
      "source": [
        "while True:\n",
        "    try:\n",
        "        user = int(input())\n",
        "        if user < 0:\n",
        "            raise ValueError(\"please give positive number\")\n",
        "        else:\n",
        "            print(\"user input: %s\" % user)\n",
        "    except ValueError as e:\n",
        "        print(e)"
      ],
      "execution_count": 0,
      "outputs": []
    },
    {
      "cell_type": "code",
      "metadata": {
        "id": "cLBH85SOpXdn",
        "colab_type": "code",
        "colab": {
          "base_uri": "https://localhost:8080/",
          "height": 68
        },
        "outputId": "29d7de36-e98c-44f4-9483-445853294118"
      },
      "source": [
        "class Rocket():\n",
        "    def __init__(self, name, distance):\n",
        "        self.name = name\n",
        "        self.distance = distance\n",
        "\n",
        "    def launch(self):\n",
        "        return \"%s has reached %s\" % (self.name, self.distance)\n",
        "\n",
        "\n",
        "class MarsRover(Rocket): # inheriting from the base class\n",
        "    def __init__(self, name, distance, maker):\n",
        "        Rocket.__init__(self, name, distance) #inheritence\n",
        "        self.maker = maker\n",
        "\n",
        "    def get_maker(self):\n",
        "        return \"%s Launched by %s\" % (self.name, self.maker)\n",
        "\n",
        "\n",
        "if __name__ == \"__main__\":\n",
        "    x = Rocket(\"simple rocket\", \"till stratosphere\")\n",
        "    y = MarsRover(\"mars_rover\", \"till Mars\", \"ISRO\")\n",
        "    print(x.launch())\n",
        "    print(y.launch())\n",
        "    print(y.get_maker())"
      ],
      "execution_count": 17,
      "outputs": [
        {
          "output_type": "stream",
          "text": [
            "simple rocket has reached till stratosphere\n",
            "mars_rover has reached till Mars\n",
            "mars_rover Launched by ISRO\n"
          ],
          "name": "stdout"
        }
      ]
    },
    {
      "cell_type": "code",
      "metadata": {
        "id": "bZRTXEWQpXVy",
        "colab_type": "code",
        "colab": {
          "base_uri": "https://localhost:8080/",
          "height": 51
        },
        "outputId": "02c6fd3f-e773-4fb9-8bd6-b3030dc9c484"
      },
      "source": [
        "#create an object of an derived class\n",
        "class Rocket():\n",
        "    def __init__(self, name, distance):\n",
        "        self.name = name\n",
        "        self.distance = distance\n",
        "\n",
        "    def launch(self):\n",
        "        return \"%s has reached %s\" % (self.name, self.distance)\n",
        "\n",
        "\n",
        "class MarsRoverComp():\n",
        "    def __init__(self, name, distance, maker):\n",
        "        self.rocket = Rocket(name, distance) # instantiating the base (create an object and store the data)\n",
        "\n",
        "        self.maker = maker\n",
        "\n",
        "    def get_maker(self):\n",
        "        return \"%s Launched by %s\" % (self.rocket.name, self.maker)\n",
        "\n",
        "\n",
        "if __name__ == \"__main__\":\n",
        "    z = MarsRover(\"mars_rover2\", \"till Mars\", \"ISRO\")\n",
        "    print(z.launch())\n",
        "    print(z.get_maker())"
      ],
      "execution_count": 18,
      "outputs": [
        {
          "output_type": "stream",
          "text": [
            "mars_rover2 has reached till Mars\n",
            "mars_rover2 Launched by ISRO\n"
          ],
          "name": "stdout"
        }
      ]
    },
    {
      "cell_type": "code",
      "metadata": {
        "id": "Oj8Y41vCpXTi",
        "colab_type": "code",
        "colab": {
          "base_uri": "https://localhost:8080/",
          "height": 34
        },
        "outputId": "39928674-a23a-4ce8-d447-e726ee5f4212"
      },
      "source": [
        "x = \"1\" if True else \"2\"\n",
        "x"
      ],
      "execution_count": 19,
      "outputs": [
        {
          "output_type": "execute_result",
          "data": {
            "text/plain": [
              "'1'"
            ]
          },
          "metadata": {
            "tags": []
          },
          "execution_count": 19
        }
      ]
    },
    {
      "cell_type": "code",
      "metadata": {
        "id": "WyvfciNopXQe",
        "colab_type": "code",
        "colab": {
          "base_uri": "https://localhost:8080/",
          "height": 272
        },
        "outputId": "bc574322-ae6b-42fe-b961-ced0ec25aada"
      },
      "source": [
        "setA = set([1, 2, 3, 4, 5, 6, 7, 7, 7])\n",
        "print(setA)\n",
        "setA.add(8)\n",
        "print(setA)\n",
        "setA.add((9, 10))\n",
        "print(setA)\n",
        "setA.update([11, 12])\n",
        "print(setA)\n",
        "setA.update([12, 14], {15, 16})\n",
        "print(setA)\n",
        "setA.update((17,18))\n",
        "print(setA)\n",
        "k =setA.discard(7)\n",
        "print(setA)\n",
        "print(k)\n",
        "j = setA.remove(8)\n",
        "print(j)\n",
        "print(setA)\n",
        "shallow_copy_of_setA = setA.copy()\n",
        "print(shallow_copy_of_setA)\n",
        "shallow_copy_of_setA.clear()\n",
        "print(shallow_copy_of_setA)\n",
        "print(setA.pop())\n",
        "print(setA.pop()) #revome element from the beginning\n",
        "print(setA)"
      ],
      "execution_count": 30,
      "outputs": [
        {
          "output_type": "stream",
          "text": [
            "{1, 2, 3, 4, 5, 6, 7}\n",
            "{1, 2, 3, 4, 5, 6, 7, 8}\n",
            "{1, 2, 3, 4, 5, 6, 7, 8, (9, 10)}\n",
            "{1, 2, 3, 4, 5, 6, 7, 8, 11, 12, (9, 10)}\n",
            "{1, 2, 3, 4, 5, 6, 7, 8, 11, 12, 14, 15, (9, 10), 16}\n",
            "{1, 2, 3, 4, 5, 6, 7, 8, 11, 12, 14, 15, (9, 10), 16, 17, 18}\n",
            "{1, 2, 3, 4, 5, 6, 8, 11, 12, 14, 15, (9, 10), 16, 17, 18}\n",
            "None\n",
            "None\n",
            "{1, 2, 3, 4, 5, 6, 11, 12, 14, 15, (9, 10), 16, 17, 18}\n",
            "{1, 2, 3, 4, 5, 6, 11, 12, 14, 15, (9, 10), 16, 17, 18}\n",
            "set()\n",
            "1\n",
            "2\n",
            "{3, 4, 5, 6, 11, 12, 14, 15, (9, 10), 16, 17, 18}\n"
          ],
          "name": "stdout"
        }
      ]
    },
    {
      "cell_type": "code",
      "metadata": {
        "id": "icU0Bn8BpXJB",
        "colab_type": "code",
        "colab": {
          "base_uri": "https://localhost:8080/",
          "height": 170
        },
        "outputId": "0edb66fb-4b53-49b9-b391-f527cae5695c"
      },
      "source": [
        "setA = set([1, 2, 3, 4, 5, 6, 7, 7, 7])\n",
        "print(setA)\n",
        "setB= set()\n",
        "setB.update([1, 2, 3, 4, 5, 10, 15, 22])\n",
        "print(setB)\n",
        "print(setA & setB)\n",
        "print(setA.intersection(setB))\n",
        "print(setA.difference(setB))\n",
        "print(setB.difference(setA))\n",
        "print(setA.isdisjoint(setB))# returns false as both \"have common elements\"\n",
        "print(setA.issubset(setB))\n",
        "print(setA.issuperset(setB))"
      ],
      "execution_count": 35,
      "outputs": [
        {
          "output_type": "stream",
          "text": [
            "{1, 2, 3, 4, 5, 6, 7}\n",
            "{1, 2, 3, 4, 5, 10, 15, 22}\n",
            "{1, 2, 3, 4, 5}\n",
            "{1, 2, 3, 4, 5}\n",
            "{6, 7}\n",
            "{10, 22, 15}\n",
            "False\n",
            "False\n",
            "False\n"
          ],
          "name": "stdout"
        }
      ]
    },
    {
      "cell_type": "code",
      "metadata": {
        "id": "dTcyI9wVpXFa",
        "colab_type": "code",
        "colab": {
          "base_uri": "https://localhost:8080/",
          "height": 170
        },
        "outputId": "51f5daa5-68a3-4881-c105-e153ddc6643d"
      },
      "source": [
        "fruits = [\"apples\", \"oranges\", \"mangoes\"]\n",
        "for index, fruit in enumerate(fruits):\n",
        "    print(\"index is %s\" % index)\n",
        "    print(\"fruit is %s\" % fruit)\n",
        "    print(\"###########################\")"
      ],
      "execution_count": 36,
      "outputs": [
        {
          "output_type": "stream",
          "text": [
            "index is 0\n",
            "fruit is apples\n",
            "###########################\n",
            "index is 1\n",
            "fruit is oranges\n",
            "###########################\n",
            "index is 2\n",
            "fruit is mangoes\n",
            "###########################\n"
          ],
          "name": "stdout"
        }
      ]
    },
    {
      "cell_type": "code",
      "metadata": {
        "id": "kbMEiEJ3WCIg",
        "colab_type": "code",
        "colab": {
          "base_uri": "https://localhost:8080/",
          "height": 34
        },
        "outputId": "aff22272-6f2a-4eb5-f1a3-790ed91d081c"
      },
      "source": [
        "\"abcde\".index(\"c\")"
      ],
      "execution_count": 37,
      "outputs": [
        {
          "output_type": "execute_result",
          "data": {
            "text/plain": [
              "2"
            ]
          },
          "metadata": {
            "tags": []
          },
          "execution_count": 37
        }
      ]
    },
    {
      "cell_type": "code",
      "metadata": {
        "id": "8LaT8AdpWCau",
        "colab_type": "code",
        "colab": {
          "base_uri": "https://localhost:8080/",
          "height": 51
        },
        "outputId": "849a14ab-0d64-404b-b53f-66120bf11e1b"
      },
      "source": [
        "print(isinstance(2, int))\n",
        "\n",
        "liss = [1,2,4]\n",
        "print(isinstance(liss, list))"
      ],
      "execution_count": 39,
      "outputs": [
        {
          "output_type": "stream",
          "text": [
            "True\n",
            "True\n"
          ],
          "name": "stdout"
        }
      ]
    },
    {
      "cell_type": "code",
      "metadata": {
        "id": "EuDP9pDfWCfo",
        "colab_type": "code",
        "colab": {
          "base_uri": "https://localhost:8080/",
          "height": 136
        },
        "outputId": "5606da47-dddb-4793-be07-c5b7403ec35c"
      },
      "source": [
        "langs = [\"haskell\", \"clojure\", \"apl\"]\n",
        "langs.extend([\"scala\", \"F#\"])\n",
        "print(langs)\n",
        "k = langs.remove(\"scala\")\n",
        "print(langs)\n",
        "print(k)\n",
        "some_numbers = [5, 4, 3, 1]\n",
        "j = some_numbers.pop()   #delete from the end of the list\n",
        "print(j)\n",
        "print( some_numbers)\n",
        "\n",
        "s = some_numbers.pop(1)# pop the element at index 1\n",
        "print( some_numbers)\n",
        "print(s)"
      ],
      "execution_count": 44,
      "outputs": [
        {
          "output_type": "stream",
          "text": [
            "['haskell', 'clojure', 'apl', 'scala', 'F#']\n",
            "['haskell', 'clojure', 'apl', 'F#']\n",
            "None\n",
            "1\n",
            "[5, 4, 3]\n",
            "[5, 3]\n",
            "4\n"
          ],
          "name": "stdout"
        }
      ]
    },
    {
      "cell_type": "code",
      "metadata": {
        "id": "tSPvM0zbWCX2",
        "colab_type": "code",
        "colab": {
          "base_uri": "https://localhost:8080/",
          "height": 231
        },
        "outputId": "9112d7a5-d16e-43fa-f2b7-54e275db5841"
      },
      "source": [
        "alphabets = {1: 'a'}\n",
        "print(alphabets.get(1))  # get the value with key 1\n",
        "# get the value with key 2. Pass “default” as default. Since key 2 does not exist, you get “default” as the return value.\n",
        "print(alphabets.get(2, \"default\"))\n",
        "# get the value with key 2 through direct referencing \n",
        "print(alphabets[2])"
      ],
      "execution_count": 45,
      "outputs": [
        {
          "output_type": "stream",
          "text": [
            "a\n",
            "default\n"
          ],
          "name": "stdout"
        },
        {
          "output_type": "error",
          "ename": "KeyError",
          "evalue": "ignored",
          "traceback": [
            "\u001b[0;31m---------------------------------------------------------------------------\u001b[0m",
            "\u001b[0;31mKeyError\u001b[0m                                  Traceback (most recent call last)",
            "\u001b[0;32m<ipython-input-45-d7cd455d9d08>\u001b[0m in \u001b[0;36m<module>\u001b[0;34m()\u001b[0m\n\u001b[1;32m      4\u001b[0m \u001b[0mprint\u001b[0m\u001b[0;34m(\u001b[0m\u001b[0malphabets\u001b[0m\u001b[0;34m.\u001b[0m\u001b[0mget\u001b[0m\u001b[0;34m(\u001b[0m\u001b[0;36m2\u001b[0m\u001b[0;34m,\u001b[0m \u001b[0;34m\"default\"\u001b[0m\u001b[0;34m)\u001b[0m\u001b[0;34m)\u001b[0m\u001b[0;34m\u001b[0m\u001b[0;34m\u001b[0m\u001b[0m\n\u001b[1;32m      5\u001b[0m \u001b[0;31m# get the value with key 2 through direct referencing\u001b[0m\u001b[0;34m\u001b[0m\u001b[0;34m\u001b[0m\u001b[0;34m\u001b[0m\u001b[0m\n\u001b[0;32m----> 6\u001b[0;31m \u001b[0mprint\u001b[0m\u001b[0;34m(\u001b[0m\u001b[0malphabets\u001b[0m\u001b[0;34m[\u001b[0m\u001b[0;36m2\u001b[0m\u001b[0;34m]\u001b[0m\u001b[0;34m)\u001b[0m\u001b[0;34m\u001b[0m\u001b[0;34m\u001b[0m\u001b[0m\n\u001b[0m",
            "\u001b[0;31mKeyError\u001b[0m: 2"
          ]
        }
      ]
    },
    {
      "cell_type": "code",
      "metadata": {
        "id": "0reSQkJcWCU2",
        "colab_type": "code",
        "colab": {
          "base_uri": "https://localhost:8080/",
          "height": 248
        },
        "outputId": "f77c957b-7669-453f-97f5-aad9eb4ae7c8"
      },
      "source": [
        "person1_information = {'city': 'San Francisco'}\n",
        "print(person1_information) \n",
        "remaining_information = {'name': 'Sam', \"food\": \"shrimps\"}\n",
        "\n",
        "# add the second dictionary remaining_information to personal1_information using the update method\n",
        "person1_information.update(remaining_information)\n",
        "print(person1_information)\n",
        "\n",
        "\n",
        "# delete the key, value pair with the key “food”\n",
        "del person1_information[\"food\"]\n",
        "print(person1_information)\n",
        "\n",
        "# deleting a non existent key gives key error.\n",
        "del person1_information[\"non_existent_key\"]"
      ],
      "execution_count": 48,
      "outputs": [
        {
          "output_type": "stream",
          "text": [
            "{'city': 'San Francisco'}\n",
            "{'city': 'San Francisco', 'name': 'Sam', 'food': 'shrimps'}\n",
            "{'city': 'San Francisco', 'name': 'Sam'}\n"
          ],
          "name": "stdout"
        },
        {
          "output_type": "error",
          "ename": "KeyError",
          "evalue": "ignored",
          "traceback": [
            "\u001b[0;31m---------------------------------------------------------------------------\u001b[0m",
            "\u001b[0;31mKeyError\u001b[0m                                  Traceback (most recent call last)",
            "\u001b[0;32m<ipython-input-48-08ffb234161b>\u001b[0m in \u001b[0;36m<module>\u001b[0;34m()\u001b[0m\n\u001b[1;32m     13\u001b[0m \u001b[0;34m\u001b[0m\u001b[0m\n\u001b[1;32m     14\u001b[0m \u001b[0;31m# deleting a non existent key gives key error.\u001b[0m\u001b[0;34m\u001b[0m\u001b[0;34m\u001b[0m\u001b[0;34m\u001b[0m\u001b[0m\n\u001b[0;32m---> 15\u001b[0;31m \u001b[0;32mdel\u001b[0m \u001b[0mperson1_information\u001b[0m\u001b[0;34m[\u001b[0m\u001b[0;34m\"non_existent_key\"\u001b[0m\u001b[0;34m]\u001b[0m\u001b[0;34m\u001b[0m\u001b[0;34m\u001b[0m\u001b[0m\n\u001b[0m",
            "\u001b[0;31mKeyError\u001b[0m: 'non_existent_key'"
          ]
        }
      ]
    },
    {
      "cell_type": "code",
      "metadata": {
        "id": "nndn2mhNWCGQ",
        "colab_type": "code",
        "colab": {
          "base_uri": "https://localhost:8080/",
          "height": 68
        },
        "outputId": "151dde1c-5a4d-43d4-afe7-d514e9b41163"
      },
      "source": [
        "person1_information = {'city': 'San Francisco', 'name': 'Sam', \"food\": \"shrimps\"}\n",
        "\n",
        "# remove a key, value pair with key “food” and default value None\n",
        "print(person1_information.pop(\"food\", None))\n",
        "print(person1_information)\n",
        "# try to delete a nonexistent key. This will return None as None is given as the default value.\n",
        "print(person1_information.pop(\"food\", None))"
      ],
      "execution_count": 49,
      "outputs": [
        {
          "output_type": "stream",
          "text": [
            "shrimps\n",
            "{'city': 'San Francisco', 'name': 'Sam'}\n",
            "None\n"
          ],
          "name": "stdout"
        }
      ]
    },
    {
      "cell_type": "code",
      "metadata": {
        "id": "3Mk9NnAfdfS3",
        "colab_type": "code",
        "colab": {}
      },
      "source": [
        ""
      ],
      "execution_count": 0,
      "outputs": []
    },
    {
      "cell_type": "code",
      "metadata": {
        "id": "f0FKx_CadfO5",
        "colab_type": "code",
        "colab": {}
      },
      "source": [
        ""
      ],
      "execution_count": 0,
      "outputs": []
    },
    {
      "cell_type": "code",
      "metadata": {
        "id": "zYlEeR57dfMY",
        "colab_type": "code",
        "colab": {}
      },
      "source": [
        ""
      ],
      "execution_count": 0,
      "outputs": []
    },
    {
      "cell_type": "code",
      "metadata": {
        "id": "nagbmTdjdfKn",
        "colab_type": "code",
        "colab": {}
      },
      "source": [
        ""
      ],
      "execution_count": 0,
      "outputs": []
    },
    {
      "cell_type": "code",
      "metadata": {
        "id": "y2J_e5LcdfJD",
        "colab_type": "code",
        "colab": {}
      },
      "source": [
        ""
      ],
      "execution_count": 0,
      "outputs": []
    },
    {
      "cell_type": "code",
      "metadata": {
        "id": "gl0ws2B7dfGL",
        "colab_type": "code",
        "colab": {}
      },
      "source": [
        ""
      ],
      "execution_count": 0,
      "outputs": []
    },
    {
      "cell_type": "code",
      "metadata": {
        "id": "IcuylWTtdfD3",
        "colab_type": "code",
        "colab": {}
      },
      "source": [
        ""
      ],
      "execution_count": 0,
      "outputs": []
    },
    {
      "cell_type": "code",
      "metadata": {
        "id": "zJ6h00Ovde8U",
        "colab_type": "code",
        "colab": {}
      },
      "source": [
        ""
      ],
      "execution_count": 0,
      "outputs": []
    },
    {
      "cell_type": "code",
      "metadata": {
        "id": "XTPY5_snWCBq",
        "colab_type": "code",
        "colab": {}
      },
      "source": [
        ""
      ],
      "execution_count": 0,
      "outputs": []
    }
  ]
}